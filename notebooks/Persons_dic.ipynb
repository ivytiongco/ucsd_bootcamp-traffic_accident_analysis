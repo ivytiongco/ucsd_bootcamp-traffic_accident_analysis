{
 "cells": [
  {
   "cell_type": "code",
   "execution_count": 183,
   "metadata": {},
   "outputs": [],
   "source": [
    "import requests\n",
    "import json\n",
    "import pandas as pd\n"
   ]
  },
  {
   "cell_type": "code",
   "execution_count": 3,
   "metadata": {},
   "outputs": [
    {
     "ename": "NameError",
     "evalue": "name 'requests' is not defined",
     "output_type": "error",
     "traceback": [
      "\u001b[1;31m---------------------------------------------------------------------------\u001b[0m",
      "\u001b[1;31mNameError\u001b[0m                                 Traceback (most recent call last)",
      "\u001b[1;32m<ipython-input-3-c3145a8b6382>\u001b[0m in \u001b[0;36m<module>\u001b[1;34m\u001b[0m\n\u001b[0;32m     10\u001b[0m \u001b[0mqurl\u001b[0m \u001b[1;33m=\u001b[0m\u001b[1;34mf\"{url}/crashes/GetCaseDetails?stateCase=60005&caseYear=2014&state=6&format=json\"\u001b[0m\u001b[1;33m\u001b[0m\u001b[1;33m\u001b[0m\u001b[0m\n\u001b[0;32m     11\u001b[0m \u001b[1;31m#qurl = f\"{url}/crashes/GetCrashesByLocation?fromCaseYear={fromCaseYear}&toCaseYear={toCaseYear}&state={state}&county=73&format=json\"\u001b[0m\u001b[1;33m\u001b[0m\u001b[1;33m\u001b[0m\u001b[1;33m\u001b[0m\u001b[0m\n\u001b[1;32m---> 12\u001b[1;33m \u001b[0mcali2\u001b[0m\u001b[1;33m=\u001b[0m\u001b[0mrequests\u001b[0m\u001b[1;33m.\u001b[0m\u001b[0mget\u001b[0m\u001b[1;33m(\u001b[0m\u001b[0mqurl\u001b[0m\u001b[1;33m)\u001b[0m\u001b[1;33m.\u001b[0m\u001b[0mjson\u001b[0m\u001b[1;33m(\u001b[0m\u001b[1;33m)\u001b[0m\u001b[1;33m\u001b[0m\u001b[1;33m\u001b[0m\u001b[0m\n\u001b[0m",
      "\u001b[1;31mNameError\u001b[0m: name 'requests' is not defined"
     ]
    }
   ],
   "source": [
    "url= \"https://crashviewer.nhtsa.dot.gov/CrashAPI\"\n",
    "#/crashes/GetCrashesByLocation?fromCaseYear=2014&toCaseYear=2015&state=1&county=1&format=json\n",
    "#/crashes/GetCrashesByVehicle?make=6&model=41&modelyear=2003&bodyType=4&fromCaseYear=2010&toCaseYear=2015 &state=21&format=json\n",
    "#/crashes/GetCaseList?states=1,51&fromYear=2014&toYear=2015&minNumOfVehicles=1&maxNumOfVehicles=6&format=json\n",
    "#/crashes/GetCaseDetails?stateCase=10003&caseYear=2014&state=1&format=json\n",
    "\n",
    "fromCaseYear = \"2010\"\n",
    "toCaseYear = \"2020\"\n",
    "state = \"6\"\n",
    "qurl =f\"{url}/crashes/GetCaseDetails?stateCase=60005&caseYear=2014&state=6&format=json\"\n",
    "#qurl = f\"{url}/crashes/GetCrashesByLocation?fromCaseYear={fromCaseYear}&toCaseYear={toCaseYear}&state={state}&county=73&format=json\"\n",
    "cali2=requests.get(qurl).json()\n"
   ]
  },
  {
   "cell_type": "code",
   "execution_count": 5,
   "metadata": {},
   "outputs": [
    {
     "ename": "NameError",
     "evalue": "name 'cali' is not defined",
     "output_type": "error",
     "traceback": [
      "\u001b[1;31m---------------------------------------------------------------------------\u001b[0m",
      "\u001b[1;31mNameError\u001b[0m                                 Traceback (most recent call last)",
      "\u001b[1;32m<ipython-input-5-8fbfd967b878>\u001b[0m in \u001b[0;36m<module>\u001b[1;34m\u001b[0m\n\u001b[1;32m----> 1\u001b[1;33m \u001b[0mcali\u001b[0m\u001b[1;33m[\u001b[0m\u001b[1;34m'Results'\u001b[0m\u001b[1;33m]\u001b[0m\u001b[1;33m[\u001b[0m\u001b[1;36m0\u001b[0m\u001b[1;33m]\u001b[0m\u001b[1;33m[\u001b[0m\u001b[1;36m0\u001b[0m\u001b[1;33m]\u001b[0m\u001b[1;33m[\u001b[0m\u001b[1;34m'CrashResultSet'\u001b[0m\u001b[1;33m]\u001b[0m\u001b[1;33m[\u001b[0m\u001b[1;34m'Vehicles'\u001b[0m\u001b[1;33m]\u001b[0m\u001b[1;33m[\u001b[0m\u001b[1;36m0\u001b[0m\u001b[1;33m]\u001b[0m\u001b[1;33m[\u001b[0m\u001b[1;34m'Persons'\u001b[0m\u001b[1;33m]\u001b[0m\u001b[1;33m\u001b[0m\u001b[1;33m\u001b[0m\u001b[0m\n\u001b[0m",
      "\u001b[1;31mNameError\u001b[0m: name 'cali' is not defined"
     ]
    }
   ],
   "source": [
    "cali['Results'][0][0]['CrashResultSet']['Vehicles'][0]['Persons']"
   ]
  },
  {
   "cell_type": "code",
   "execution_count": 186,
   "metadata": {},
   "outputs": [
    {
     "data": {
      "text/html": [
       "<div>\n",
       "<style scoped>\n",
       "    .dataframe tbody tr th:only-of-type {\n",
       "        vertical-align: middle;\n",
       "    }\n",
       "\n",
       "    .dataframe tbody tr th {\n",
       "        vertical-align: top;\n",
       "    }\n",
       "\n",
       "    .dataframe thead th {\n",
       "        text-align: right;\n",
       "    }\n",
       "</style>\n",
       "<table border=\"1\" class=\"dataframe\">\n",
       "  <thead>\n",
       "    <tr style=\"text-align: right;\">\n",
       "      <th></th>\n",
       "      <th>AGE</th>\n",
       "      <th>AGENAME</th>\n",
       "      <th>AIR_BAG</th>\n",
       "      <th>AIR_BAGNAME</th>\n",
       "      <th>ALC_DET</th>\n",
       "      <th>ALC_DETNAME</th>\n",
       "      <th>ALC_RES</th>\n",
       "      <th>ALC_RESNAME</th>\n",
       "      <th>ALC_STATUS</th>\n",
       "      <th>ALC_STATUSNAME</th>\n",
       "      <th>...</th>\n",
       "      <th>STATENAME</th>\n",
       "      <th>STR_VEH</th>\n",
       "      <th>STR_VEHNAME</th>\n",
       "      <th>ST_CASE</th>\n",
       "      <th>TOW_VEH</th>\n",
       "      <th>TOW_VEHNAME</th>\n",
       "      <th>VEH_NO</th>\n",
       "      <th>VE_FORMS</th>\n",
       "      <th>WORK_INJ</th>\n",
       "      <th>WORK_INJNAME</th>\n",
       "    </tr>\n",
       "  </thead>\n",
       "  <tbody>\n",
       "    <tr>\n",
       "      <th>0</th>\n",
       "      <td>22</td>\n",
       "      <td>22 Years</td>\n",
       "      <td>0</td>\n",
       "      <td>Not Applicable</td>\n",
       "      <td>9</td>\n",
       "      <td>Not Reported</td>\n",
       "      <td>96</td>\n",
       "      <td>Test Not Given</td>\n",
       "      <td>0</td>\n",
       "      <td>Test Not Given</td>\n",
       "      <td>...</td>\n",
       "      <td>California</td>\n",
       "      <td>0</td>\n",
       "      <td>Occupant of a Motor Vehicle</td>\n",
       "      <td>60005</td>\n",
       "      <td>0</td>\n",
       "      <td>No Trailing Units</td>\n",
       "      <td>1</td>\n",
       "      <td>2</td>\n",
       "      <td>0</td>\n",
       "      <td>No</td>\n",
       "    </tr>\n",
       "  </tbody>\n",
       "</table>\n",
       "<p>1 rows × 131 columns</p>\n",
       "</div>"
      ],
      "text/plain": [
       "  AGE   AGENAME AIR_BAG     AIR_BAGNAME ALC_DET   ALC_DETNAME ALC_RES  \\\n",
       "0  22  22 Years       0  Not Applicable       9  Not Reported      96   \n",
       "\n",
       "      ALC_RESNAME ALC_STATUS  ALC_STATUSNAME  ...   STATENAME STR_VEH  \\\n",
       "0  Test Not Given          0  Test Not Given  ...  California       0   \n",
       "\n",
       "                   STR_VEHNAME ST_CASE TOW_VEH        TOW_VEHNAME VEH_NO  \\\n",
       "0  Occupant of a Motor Vehicle   60005       0  No Trailing Units      1   \n",
       "\n",
       "  VE_FORMS WORK_INJ WORK_INJNAME  \n",
       "0        2        0           No  \n",
       "\n",
       "[1 rows x 131 columns]"
      ]
     },
     "execution_count": 186,
     "metadata": {},
     "output_type": "execute_result"
    }
   ],
   "source": [
    "persons1=pd.DataFrame(cali2['Results'][0][0]['CrashResultSet']['Vehicles'][0]['Persons'])\n",
    "persons1"
   ]
  },
  {
   "cell_type": "code",
   "execution_count": 187,
   "metadata": {},
   "outputs": [
    {
     "data": {
      "text/html": [
       "<div>\n",
       "<style scoped>\n",
       "    .dataframe tbody tr th:only-of-type {\n",
       "        vertical-align: middle;\n",
       "    }\n",
       "\n",
       "    .dataframe tbody tr th {\n",
       "        vertical-align: top;\n",
       "    }\n",
       "\n",
       "    .dataframe thead th {\n",
       "        text-align: right;\n",
       "    }\n",
       "</style>\n",
       "<table border=\"1\" class=\"dataframe\">\n",
       "  <thead>\n",
       "    <tr style=\"text-align: right;\">\n",
       "      <th></th>\n",
       "      <th>RACENAME</th>\n",
       "      <th>ROAD_FNCNAME</th>\n",
       "      <th>SEXNAME</th>\n",
       "      <th>MAKENAME</th>\n",
       "    </tr>\n",
       "  </thead>\n",
       "  <tbody>\n",
       "    <tr>\n",
       "      <th>0</th>\n",
       "      <td>Black</td>\n",
       "      <td>Urban-Principal Arterial-Interstate</td>\n",
       "      <td>Male</td>\n",
       "      <td>Suzuki</td>\n",
       "    </tr>\n",
       "  </tbody>\n",
       "</table>\n",
       "</div>"
      ],
      "text/plain": [
       "  RACENAME                         ROAD_FNCNAME SEXNAME MAKENAME\n",
       "0    Black  Urban-Principal Arterial-Interstate    Male   Suzuki"
      ]
     },
     "execution_count": 187,
     "metadata": {},
     "output_type": "execute_result"
    }
   ],
   "source": [
    "persons1[[\"RACENAME\",\"ROAD_FNCNAME\",\"SEXNAME\",\"MAKENAME\"]]"
   ]
  },
  {
   "cell_type": "code",
   "execution_count": 188,
   "metadata": {},
   "outputs": [],
   "source": [
    "persons11=persons1[[\"RACENAME\",\"AGENAME\",\"DOANAME\",\"ROAD_FNCNAME\",\"SEXNAME\",\"MAKENAME\"]]"
   ]
  },
  {
   "cell_type": "code",
   "execution_count": 189,
   "metadata": {},
   "outputs": [],
   "source": [
    "person1_f= persons11.rename(columns={\"RACENAME\":\"Race\",\"AGENAME\":\"Age\",\"DOANAME\":\"Death\",\"ROAD_FNCNAME\":\"Road_Type\",\"SEXNAME\":\"Sex\",\"MAKENAME\":\"Make\"})"
   ]
  },
  {
   "cell_type": "code",
   "execution_count": 190,
   "metadata": {},
   "outputs": [
    {
     "data": {
      "text/plain": [
       "'Yes, Exceeded Speed Limit'"
      ]
     },
     "execution_count": 190,
     "metadata": {},
     "output_type": "execute_result"
    }
   ],
   "source": [
    "cali2['Results'][0][0]['CrashResultSet']['Vehicles'][0]['SPEEDRELNAME']"
   ]
  },
  {
   "cell_type": "code",
   "execution_count": null,
   "metadata": {},
   "outputs": [],
   "source": []
  },
  {
   "cell_type": "code",
   "execution_count": 191,
   "metadata": {
    "scrolled": true
   },
   "outputs": [],
   "source": [
    "lanespeed =cali2['Results'][0][0]['CrashResultSet']['Vehicles'][0]['SPEEDRELNAME']"
   ]
  },
  {
   "cell_type": "code",
   "execution_count": 192,
   "metadata": {},
   "outputs": [
    {
     "data": {
      "text/plain": [
       "'95'"
      ]
     },
     "execution_count": 192,
     "metadata": {},
     "output_type": "execute_result"
    }
   ],
   "source": [
    "cali2['Results'][0][0]['CrashResultSet']['Vehicles'][0]['TRAV_SP']"
   ]
  },
  {
   "cell_type": "code",
   "execution_count": 193,
   "metadata": {},
   "outputs": [
    {
     "data": {
      "text/plain": [
       "'95'"
      ]
     },
     "execution_count": 193,
     "metadata": {},
     "output_type": "execute_result"
    }
   ],
   "source": [
    "travelspeed = cali2['Results'][0][0]['CrashResultSet']['Vehicles'][0]['TRAV_SP']\n",
    "travelspeed"
   ]
  },
  {
   "cell_type": "code",
   "execution_count": 194,
   "metadata": {},
   "outputs": [
    {
     "data": {
      "text/plain": [
       "'JS1GN7EA6821'"
      ]
     },
     "execution_count": 194,
     "metadata": {},
     "output_type": "execute_result"
    }
   ],
   "source": [
    "cali2['Results'][0][0]['CrashResultSet']['Vehicles'][0]['VINNAME']"
   ]
  },
  {
   "cell_type": "code",
   "execution_count": 195,
   "metadata": {},
   "outputs": [],
   "source": [
    "vin = cali2['Results'][0][0]['CrashResultSet']['Vehicles'][0]['VINNAME']"
   ]
  },
  {
   "cell_type": "code",
   "execution_count": 196,
   "metadata": {},
   "outputs": [
    {
     "data": {
      "text/plain": [
       "'Motor Vehicle struck by falling cargo,or something that came loose from or something that was set in motion by a vehicle'"
      ]
     },
     "execution_count": 196,
     "metadata": {},
     "output_type": "execute_result"
    }
   ],
   "source": [
    "cali2['Results'][0][0]['CrashResultSet']['CF2NAME']"
   ]
  },
  {
   "cell_type": "code",
   "execution_count": 197,
   "metadata": {},
   "outputs": [],
   "source": [
    "cf2name = cali2['Results'][0][0]['CrashResultSet']['CF2NAME']"
   ]
  },
  {
   "cell_type": "code",
   "execution_count": 198,
   "metadata": {},
   "outputs": [
    {
     "data": {
      "text/plain": [
       "'65'"
      ]
     },
     "execution_count": 198,
     "metadata": {},
     "output_type": "execute_result"
    }
   ],
   "source": [
    "cali2['Results'][0][0]['CrashResultSet']['Vehicles'][0]['VSPD_LIM']"
   ]
  },
  {
   "cell_type": "code",
   "execution_count": 199,
   "metadata": {},
   "outputs": [],
   "source": [
    "speedlimite= cali2['Results'][0][0]['CrashResultSet']['Vehicles'][0]['VSPD_LIM']"
   ]
  },
  {
   "cell_type": "code",
   "execution_count": 200,
   "metadata": {},
   "outputs": [],
   "source": [
    "df= pd.DataFrame([{\"Speed_Limite_Exceeded\":lanespeed,\"Speed_limite\":speedlimite,\"Traveled_Speed_Veh\":travelspeed,\"Vin_Number\":vin,\"Description_of_Veh_Coll\":cf2name}])"
   ]
  },
  {
   "cell_type": "code",
   "execution_count": 201,
   "metadata": {},
   "outputs": [],
   "source": [
    "merge_df = person1_f.merge(df,left_index=True,right_index=True)"
   ]
  },
  {
   "cell_type": "code",
   "execution_count": 202,
   "metadata": {},
   "outputs": [
    {
     "data": {
      "text/plain": [
       "[{'AGE': '53',\n",
       "  'AGENAME': '53 Years',\n",
       "  'AIR_BAG': '20',\n",
       "  'AIR_BAGNAME': 'Not Deployed',\n",
       "  'ALC_DET': '9',\n",
       "  'ALC_DETNAME': 'Not Reported',\n",
       "  'ALC_RES': '96',\n",
       "  'ALC_RESNAME': 'Test Not Given',\n",
       "  'ALC_STATUS': '0',\n",
       "  'ALC_STATUSNAME': 'Test Not Given',\n",
       "  'ATST_TYP': '0',\n",
       "  'ATST_TYPNAME': 'Test Not Given',\n",
       "  'BODY_TYP': '4',\n",
       "  'BODY_TYPNAME': '4-door sedan, hardtop',\n",
       "  'CERT_NO': '************',\n",
       "  'COUNTY': '73',\n",
       "  'COUNTYNAME': 'SAN DIEGO (73)',\n",
       "  'CaseYear': '2014',\n",
       "  'DAY': '9',\n",
       "  'DEATH_DA': '88',\n",
       "  'DEATH_DANAME': 'Not Applicable (Non-Fatal)',\n",
       "  'DEATH_HR': '88',\n",
       "  'DEATH_HRNAME': 'Not Applicable (Non-fatal)',\n",
       "  'DEATH_MN': '88',\n",
       "  'DEATH_MNNAME': 'Not Applicable (Non-fatal)',\n",
       "  'DEATH_MO': '88',\n",
       "  'DEATH_MONAME': 'Not Applicable (Non-Fatal)',\n",
       "  'DEATH_TM': '8888',\n",
       "  'DEATH_YR': '8888',\n",
       "  'DEATH_YRNAME': 'Not Applicable (Non-fatal)',\n",
       "  'DOA': '0',\n",
       "  'DOANAME': 'Not Applicable',\n",
       "  'DRINKING': '0',\n",
       "  'DRINKINGNAME': 'No (Alcohol Not Involved)',\n",
       "  'DRUGRES1': '0',\n",
       "  'DRUGRES1NAME': 'Test Not Given',\n",
       "  'DRUGRES2': '0',\n",
       "  'DRUGRES2NAME': 'Test Not Given',\n",
       "  'DRUGRES3': '0',\n",
       "  'DRUGRES3NAME': 'Test Not Given',\n",
       "  'DRUGS': '0',\n",
       "  'DRUGSNAME': 'No (drugs not involved)',\n",
       "  'DRUGTST1': '0',\n",
       "  'DRUGTST1NAME': 'Test Not Given',\n",
       "  'DRUGTST2': '0',\n",
       "  'DRUGTST2NAME': 'Test Not Given',\n",
       "  'DRUGTST3': '0',\n",
       "  'DRUGTST3NAME': 'Test Not Given',\n",
       "  'DRUG_DET': '8',\n",
       "  'DRUG_DETNAME': 'Not Reported',\n",
       "  'DSTATUS': '0',\n",
       "  'DSTATUSNAME': 'Test Not Given',\n",
       "  'EJECTION': '0',\n",
       "  'EJECTIONNAME': 'Not Ejected',\n",
       "  'EJ_PATH': '0',\n",
       "  'EJ_PATHNAME': 'Not Ejected/Not Applicable',\n",
       "  'EMER_USE': '0',\n",
       "  'EMER_USENAME': 'Not Applicable',\n",
       "  'EXTRICAT': '0',\n",
       "  'EXTRICATNAME': 'Not Extricated or Not Applicable',\n",
       "  'FIRE_EXP': '1',\n",
       "  'FIRE_EXPNAME': 'Yes',\n",
       "  'FUNC_SYS': None,\n",
       "  'FUNC_SYSNAME': None,\n",
       "  'HARM_EV': '1',\n",
       "  'HARM_EVNAME': 'Rollover/Overturn',\n",
       "  'HISPANIC': '0',\n",
       "  'HISPANICNAME': 'Not A Fatality (not Applicable)',\n",
       "  'HOSPITAL': '0',\n",
       "  'HOSPITALNAME': 'Not Transported',\n",
       "  'HOUR': '16',\n",
       "  'HOURNAME': '4:00pm-4:59pm',\n",
       "  'IMPACT1': '6',\n",
       "  'IMPACT1NAME': '6 Clock Point',\n",
       "  'INJ_SEV': '0',\n",
       "  'INJ_SEVNAME': 'No Apparent Injury (O)',\n",
       "  'LAG_HRS': '999',\n",
       "  'LAG_MINS': '99',\n",
       "  'LOCATION': '0',\n",
       "  'LOCATIONNAME': '0',\n",
       "  'MAKE': '55',\n",
       "  'MAKENAME': 'Hyundai',\n",
       "  'MAK_MOD': '55033',\n",
       "  'MAN_COLL': '0',\n",
       "  'MAN_COLLNAME': 'Not a Collision with Motor Vehicle In-Transport',\n",
       "  'MINUTE': '10',\n",
       "  'MINUTENAME': '10',\n",
       "  'MOD_YEAR': '2003',\n",
       "  'MOD_YEARNAME': '2003',\n",
       "  'MONTH': '1',\n",
       "  'MonthName': 'January',\n",
       "  'PER_NO': '1',\n",
       "  'PER_TYP': '1',\n",
       "  'PER_TYPNAME': 'Driver of a Motor Vehicle In-Transport',\n",
       "  'P_SF1': '0',\n",
       "  'P_SF1NAME': 'None',\n",
       "  'P_SF2': '0',\n",
       "  'P_SF2NAME': 'None',\n",
       "  'P_SF3': '0',\n",
       "  'P_SF3NAME': 'None',\n",
       "  'RACE': '0',\n",
       "  'RACENAME': 'Not a Fatality (not Applicable)',\n",
       "  'REST_MIS': '0',\n",
       "  'REST_MISNAME': 'No',\n",
       "  'REST_USE': '3',\n",
       "  'REST_USENAME': 'Shoulder and Lap Belt Used',\n",
       "  'ROAD_FNC': '11',\n",
       "  'ROAD_FNCNAME': 'Urban-Principal Arterial-Interstate',\n",
       "  'ROLLOVER': '0',\n",
       "  'ROLLOVERNAME': 'No Rollover',\n",
       "  'RUR_URB': None,\n",
       "  'RUR_URBNAME': None,\n",
       "  'SCH_BUS': '0',\n",
       "  'SCH_BUSNAME': 'No',\n",
       "  'SEAT_POS': '11',\n",
       "  'SEAT_POSNAME': 'Front Seat, Left Side',\n",
       "  'SEX': '2',\n",
       "  'SEXNAME': 'Female',\n",
       "  'SPEC_USE': '0',\n",
       "  'SPEC_USENAME': 'No Special Use',\n",
       "  'STATE': '6',\n",
       "  'STATENAME': 'California',\n",
       "  'STR_VEH': '0',\n",
       "  'STR_VEHNAME': 'Occupant of a Motor Vehicle',\n",
       "  'ST_CASE': '60005',\n",
       "  'TOW_VEH': '0',\n",
       "  'TOW_VEHNAME': 'No Trailing Units',\n",
       "  'VEH_NO': '2',\n",
       "  'VE_FORMS': '2',\n",
       "  'WORK_INJ': '8',\n",
       "  'WORK_INJNAME': 'Not Applicable (not a fatality)'}]"
      ]
     },
     "execution_count": 202,
     "metadata": {},
     "output_type": "execute_result"
    }
   ],
   "source": [
    "cali2['Results'][0][0]['CrashResultSet']['Vehicles'][1]['Persons']"
   ]
  },
  {
   "cell_type": "code",
   "execution_count": 205,
   "metadata": {},
   "outputs": [],
   "source": [
    "person22=pd.DataFrame(cali2['Results'][0][0]['CrashResultSet']['Vehicles'][1]['Persons'])"
   ]
  },
  {
   "cell_type": "code",
   "execution_count": 206,
   "metadata": {
    "scrolled": true
   },
   "outputs": [],
   "source": [
    "persons22=person22[[\"RACENAME\",\"AGENAME\",\"DOANAME\",\"ROAD_FNCNAME\",\"SEXNAME\",\"MAKENAME\"]]"
   ]
  },
  {
   "cell_type": "code",
   "execution_count": 207,
   "metadata": {},
   "outputs": [],
   "source": [
    "rename1_1= persons22.rename(columns={\"RACENAME\":\"Race\",\"AGENAME\":\"Age\",\"DOANAME\":\"Death\",\"ROAD_FNCNAME\":\"Road_Type\",\"SEXNAME\":\"Sex\",\"MAKENAME\":\"Make\"})"
   ]
  },
  {
   "cell_type": "code",
   "execution_count": 208,
   "metadata": {},
   "outputs": [],
   "source": [
    "person2=rename1_1"
   ]
  },
  {
   "cell_type": "code",
   "execution_count": 215,
   "metadata": {},
   "outputs": [],
   "source": [
    "lanespeed2 =cali2['Results'][0][0]['CrashResultSet']['Vehicles'][0]['SPEEDRELNAME']"
   ]
  },
  {
   "cell_type": "code",
   "execution_count": 216,
   "metadata": {},
   "outputs": [],
   "source": [
    "travelspeed2 = cali2['Results'][0][0]['CrashResultSet']['Vehicles'][1]['TRAV_SP']"
   ]
  },
  {
   "cell_type": "code",
   "execution_count": 217,
   "metadata": {},
   "outputs": [],
   "source": [
    "vin2 = cali2['Results'][0][0]['CrashResultSet']['Vehicles'][1]['VINNAME']"
   ]
  },
  {
   "cell_type": "code",
   "execution_count": 218,
   "metadata": {},
   "outputs": [],
   "source": [
    "speedlimite2= cali2['Results'][0][0]['CrashResultSet']['Vehicles'][0]['VSPD_LIM']"
   ]
  },
  {
   "cell_type": "code",
   "execution_count": 219,
   "metadata": {},
   "outputs": [],
   "source": [
    "cf2name2 = cali2['Results'][0][0]['CrashResultSet']['CF2NAME']"
   ]
  },
  {
   "cell_type": "code",
   "execution_count": 220,
   "metadata": {},
   "outputs": [],
   "source": [
    "df2= pd.DataFrame([{\"Speed_Limite_Exceeded\":lanespeed2,\"Speed_limite\":speedlimite2,\"Traveled_Speed_Veh\":travelspeed2,\"Vin_Number\":vin2,\"Description_of_Veh_Coll\":cf2name2}])"
   ]
  },
  {
   "cell_type": "code",
   "execution_count": 221,
   "metadata": {},
   "outputs": [
    {
     "data": {
      "text/html": [
       "<div>\n",
       "<style scoped>\n",
       "    .dataframe tbody tr th:only-of-type {\n",
       "        vertical-align: middle;\n",
       "    }\n",
       "\n",
       "    .dataframe tbody tr th {\n",
       "        vertical-align: top;\n",
       "    }\n",
       "\n",
       "    .dataframe thead th {\n",
       "        text-align: right;\n",
       "    }\n",
       "</style>\n",
       "<table border=\"1\" class=\"dataframe\">\n",
       "  <thead>\n",
       "    <tr style=\"text-align: right;\">\n",
       "      <th></th>\n",
       "      <th>Race</th>\n",
       "      <th>Age</th>\n",
       "      <th>Death</th>\n",
       "      <th>Road_Type</th>\n",
       "      <th>Sex</th>\n",
       "      <th>Make</th>\n",
       "      <th>Speed_Limite_Exceeded</th>\n",
       "      <th>Speed_limite</th>\n",
       "      <th>Traveled_Speed_Veh</th>\n",
       "      <th>Vin_Number</th>\n",
       "      <th>Description_of_Veh_Coll</th>\n",
       "    </tr>\n",
       "  </thead>\n",
       "  <tbody>\n",
       "    <tr>\n",
       "      <th>0</th>\n",
       "      <td>Not a Fatality (not Applicable)</td>\n",
       "      <td>53 Years</td>\n",
       "      <td>Not Applicable</td>\n",
       "      <td>Urban-Principal Arterial-Interstate</td>\n",
       "      <td>Female</td>\n",
       "      <td>Hyundai</td>\n",
       "      <td>Yes, Exceeded Speed Limit</td>\n",
       "      <td>65</td>\n",
       "      <td>45</td>\n",
       "      <td>KMHWF25S23A7</td>\n",
       "      <td>Motor Vehicle struck by falling cargo,or somet...</td>\n",
       "    </tr>\n",
       "  </tbody>\n",
       "</table>\n",
       "</div>"
      ],
      "text/plain": [
       "                              Race       Age           Death  \\\n",
       "0  Not a Fatality (not Applicable)  53 Years  Not Applicable   \n",
       "\n",
       "                             Road_Type     Sex     Make  \\\n",
       "0  Urban-Principal Arterial-Interstate  Female  Hyundai   \n",
       "\n",
       "       Speed_Limite_Exceeded Speed_limite Traveled_Speed_Veh    Vin_Number  \\\n",
       "0  Yes, Exceeded Speed Limit           65                 45  KMHWF25S23A7   \n",
       "\n",
       "                             Description_of_Veh_Coll  \n",
       "0  Motor Vehicle struck by falling cargo,or somet...  "
      ]
     },
     "execution_count": 221,
     "metadata": {},
     "output_type": "execute_result"
    }
   ],
   "source": [
    "merge_df = person2.merge(df2,left_index=True,right_index=True)\n",
    "merge_df"
   ]
  },
  {
   "cell_type": "code",
   "execution_count": null,
   "metadata": {},
   "outputs": [],
   "source": []
  }
 ],
 "metadata": {
  "kernelspec": {
   "display_name": "Python [conda env:PythonData]",
   "language": "python",
   "name": "conda-env-PythonData-py"
  },
  "language_info": {
   "codemirror_mode": {
    "name": "ipython",
    "version": 3
   },
   "file_extension": ".py",
   "mimetype": "text/x-python",
   "name": "python",
   "nbconvert_exporter": "python",
   "pygments_lexer": "ipython3",
   "version": "3.6.10"
  }
 },
 "nbformat": 4,
 "nbformat_minor": 4
}
