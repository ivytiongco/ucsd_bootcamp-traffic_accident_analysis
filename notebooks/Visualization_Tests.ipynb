{
 "cells": [
  {
   "cell_type": "code",
   "execution_count": 51,
   "metadata": {},
   "outputs": [],
   "source": [
    "import pandas as pd\n",
    "from matplotlib import pyplot as plt\n",
    "import numpy as np\n",
    "from scipy import stats"
   ]
  },
  {
   "cell_type": "code",
   "execution_count": 52,
   "metadata": {},
   "outputs": [],
   "source": [
    "events_df = pd.read_csv(\"../Data/interim/events.csv\")\n",
    "people_df = pd.read_csv(\"../Data/interim/people.csv\")"
   ]
  },
  {
   "cell_type": "code",
   "execution_count": 3,
   "metadata": {},
   "outputs": [
    {
     "data": {
      "text/html": [
       "<div>\n",
       "<style scoped>\n",
       "    .dataframe tbody tr th:only-of-type {\n",
       "        vertical-align: middle;\n",
       "    }\n",
       "\n",
       "    .dataframe tbody tr th {\n",
       "        vertical-align: top;\n",
       "    }\n",
       "\n",
       "    .dataframe thead th {\n",
       "        text-align: right;\n",
       "    }\n",
       "</style>\n",
       "<table border=\"1\" class=\"dataframe\">\n",
       "  <thead>\n",
       "    <tr style=\"text-align: right;\">\n",
       "      <th></th>\n",
       "      <th>Unnamed: 0</th>\n",
       "      <th>Area of Impact</th>\n",
       "      <th>Case Number</th>\n",
       "      <th>Event Number</th>\n",
       "      <th>Standard of Evenidence</th>\n",
       "      <th>Vehicle 1</th>\n",
       "      <th>Vehicle 2</th>\n",
       "    </tr>\n",
       "  </thead>\n",
       "  <tbody>\n",
       "    <tr>\n",
       "      <th>0</th>\n",
       "      <td>0</td>\n",
       "      <td>Non-Collision</td>\n",
       "      <td>60005</td>\n",
       "      <td>1</td>\n",
       "      <td>Rollover/Overturn</td>\n",
       "      <td>1</td>\n",
       "      <td>9999</td>\n",
       "    </tr>\n",
       "    <tr>\n",
       "      <th>1</th>\n",
       "      <td>1</td>\n",
       "      <td>Other Objects Set-In-Motion</td>\n",
       "      <td>60005</td>\n",
       "      <td>2</td>\n",
       "      <td>Motor Vehicle In-Transport Strikes or is Struc...</td>\n",
       "      <td>1</td>\n",
       "      <td>2</td>\n",
       "    </tr>\n",
       "    <tr>\n",
       "      <th>2</th>\n",
       "      <td>2</td>\n",
       "      <td>Not Reported</td>\n",
       "      <td>60005</td>\n",
       "      <td>3</td>\n",
       "      <td>Motor Vehicle In-Transport</td>\n",
       "      <td>1</td>\n",
       "      <td>2</td>\n",
       "    </tr>\n",
       "    <tr>\n",
       "      <th>3</th>\n",
       "      <td>3</td>\n",
       "      <td>Non-Collision</td>\n",
       "      <td>60005</td>\n",
       "      <td>4</td>\n",
       "      <td>Fire/Explosion</td>\n",
       "      <td>1</td>\n",
       "      <td>9999</td>\n",
       "    </tr>\n",
       "    <tr>\n",
       "      <th>4</th>\n",
       "      <td>4</td>\n",
       "      <td>Non-Collision</td>\n",
       "      <td>60005</td>\n",
       "      <td>5</td>\n",
       "      <td>Fire/Explosion</td>\n",
       "      <td>2</td>\n",
       "      <td>9999</td>\n",
       "    </tr>\n",
       "  </tbody>\n",
       "</table>\n",
       "</div>"
      ],
      "text/plain": [
       "   Unnamed: 0               Area of Impact  Case Number  Event Number  \\\n",
       "0           0                Non-Collision        60005             1   \n",
       "1           1  Other Objects Set-In-Motion        60005             2   \n",
       "2           2                 Not Reported        60005             3   \n",
       "3           3                Non-Collision        60005             4   \n",
       "4           4                Non-Collision        60005             5   \n",
       "\n",
       "                              Standard of Evenidence  Vehicle 1  Vehicle 2  \n",
       "0                                  Rollover/Overturn          1       9999  \n",
       "1  Motor Vehicle In-Transport Strikes or is Struc...          1          2  \n",
       "2                        Motor Vehicle In-Transport           1          2  \n",
       "3                                     Fire/Explosion          1       9999  \n",
       "4                                     Fire/Explosion          2       9999  "
      ]
     },
     "execution_count": 3,
     "metadata": {},
     "output_type": "execute_result"
    }
   ],
   "source": [
    "events_df.head()"
   ]
  },
  {
   "cell_type": "code",
   "execution_count": 4,
   "metadata": {},
   "outputs": [
    {
     "data": {
      "text/plain": [
       "['Unnamed: 0',\n",
       " 'Area of Impact',\n",
       " 'Case Number',\n",
       " 'Event Number',\n",
       " 'Standard of Evenidence',\n",
       " 'Vehicle 1',\n",
       " 'Vehicle 2']"
      ]
     },
     "execution_count": 4,
     "metadata": {},
     "output_type": "execute_result"
    }
   ],
   "source": [
    "list(events_df.columns)"
   ]
  },
  {
   "cell_type": "code",
   "execution_count": 5,
   "metadata": {},
   "outputs": [
    {
     "data": {
      "text/html": [
       "<div>\n",
       "<style scoped>\n",
       "    .dataframe tbody tr th:only-of-type {\n",
       "        vertical-align: middle;\n",
       "    }\n",
       "\n",
       "    .dataframe tbody tr th {\n",
       "        vertical-align: top;\n",
       "    }\n",
       "\n",
       "    .dataframe thead th {\n",
       "        text-align: right;\n",
       "    }\n",
       "</style>\n",
       "<table border=\"1\" class=\"dataframe\">\n",
       "  <thead>\n",
       "    <tr style=\"text-align: right;\">\n",
       "      <th></th>\n",
       "      <th>Unnamed: 0</th>\n",
       "      <th>Age</th>\n",
       "      <th>Age Name</th>\n",
       "      <th>Case Number</th>\n",
       "      <th>County</th>\n",
       "      <th>DOA Name</th>\n",
       "      <th>Day of Week</th>\n",
       "      <th>Death Day of Month</th>\n",
       "      <th>Description of Veh Coll</th>\n",
       "      <th>Drunk Driver</th>\n",
       "      <th>...</th>\n",
       "      <th>Road Type</th>\n",
       "      <th>Sex</th>\n",
       "      <th>Speed Limit Exceeded</th>\n",
       "      <th>Speed limit</th>\n",
       "      <th>Time of Accident</th>\n",
       "      <th>Traveled Speed Veh</th>\n",
       "      <th>Type of Vehicle</th>\n",
       "      <th>Vin Number</th>\n",
       "      <th>Year</th>\n",
       "      <th>ZIP Code</th>\n",
       "    </tr>\n",
       "  </thead>\n",
       "  <tbody>\n",
       "    <tr>\n",
       "      <th>0</th>\n",
       "      <td>0</td>\n",
       "      <td>22</td>\n",
       "      <td>22 Years</td>\n",
       "      <td>60005</td>\n",
       "      <td>SAN DIEGO (73)</td>\n",
       "      <td>Died at Scene</td>\n",
       "      <td>Thursday</td>\n",
       "      <td>9</td>\n",
       "      <td>Motor Vehicle struck by falling cargo,or somet...</td>\n",
       "      <td>0</td>\n",
       "      <td>...</td>\n",
       "      <td>Urban-Principal Arterial-Interstate</td>\n",
       "      <td>Male</td>\n",
       "      <td>Yes, Exceeded Speed Limit</td>\n",
       "      <td>95</td>\n",
       "      <td>16:10</td>\n",
       "      <td>65</td>\n",
       "      <td>Motorcycle</td>\n",
       "      <td>JS1GN7EA6821</td>\n",
       "      <td>2014</td>\n",
       "      <td>77004</td>\n",
       "    </tr>\n",
       "    <tr>\n",
       "      <th>1</th>\n",
       "      <td>1</td>\n",
       "      <td>53</td>\n",
       "      <td>53 Years</td>\n",
       "      <td>60005</td>\n",
       "      <td>SAN DIEGO (73)</td>\n",
       "      <td>Not Applicable</td>\n",
       "      <td>Thursday</td>\n",
       "      <td>Not Applicable (Non-Fatal)</td>\n",
       "      <td>Motor Vehicle struck by falling cargo,or somet...</td>\n",
       "      <td>0</td>\n",
       "      <td>...</td>\n",
       "      <td>Urban-Principal Arterial-Interstate</td>\n",
       "      <td>Female</td>\n",
       "      <td>No</td>\n",
       "      <td>45</td>\n",
       "      <td>16:10</td>\n",
       "      <td>65</td>\n",
       "      <td>4-door sedan, hardtop</td>\n",
       "      <td>KMHWF25S23A7</td>\n",
       "      <td>2014</td>\n",
       "      <td>91911</td>\n",
       "    </tr>\n",
       "    <tr>\n",
       "      <th>2</th>\n",
       "      <td>2</td>\n",
       "      <td>67</td>\n",
       "      <td>67 Years</td>\n",
       "      <td>60006</td>\n",
       "      <td>SAN DIEGO (73)</td>\n",
       "      <td>Died at Scene</td>\n",
       "      <td>Thursday</td>\n",
       "      <td>3</td>\n",
       "      <td>None</td>\n",
       "      <td>1</td>\n",
       "      <td>...</td>\n",
       "      <td>Rural-Local Road or Street</td>\n",
       "      <td>Male</td>\n",
       "      <td>No</td>\n",
       "      <td>30</td>\n",
       "      <td>18:8</td>\n",
       "      <td>35</td>\n",
       "      <td>Station Wagon (excluding van and truck based)</td>\n",
       "      <td>YV1AA885XM18</td>\n",
       "      <td>2013</td>\n",
       "      <td>92028</td>\n",
       "    </tr>\n",
       "    <tr>\n",
       "      <th>3</th>\n",
       "      <td>3</td>\n",
       "      <td>30</td>\n",
       "      <td>30 Years</td>\n",
       "      <td>60007</td>\n",
       "      <td>SAN DIEGO (73)</td>\n",
       "      <td>Not Applicable</td>\n",
       "      <td>Thursday</td>\n",
       "      <td>Not Applicable (Non-Fatal)</td>\n",
       "      <td>None</td>\n",
       "      <td>0</td>\n",
       "      <td>...</td>\n",
       "      <td>NaN</td>\n",
       "      <td>Male</td>\n",
       "      <td>No</td>\n",
       "      <td>75</td>\n",
       "      <td>17:25</td>\n",
       "      <td>65</td>\n",
       "      <td>Station Wagon (excluding van and truck based)</td>\n",
       "      <td>2T1KU4EE9BC6</td>\n",
       "      <td>2018</td>\n",
       "      <td>92173</td>\n",
       "    </tr>\n",
       "    <tr>\n",
       "      <th>4</th>\n",
       "      <td>4</td>\n",
       "      <td>30</td>\n",
       "      <td>30 Years</td>\n",
       "      <td>60007</td>\n",
       "      <td>SAN DIEGO (73)</td>\n",
       "      <td>Not Applicable</td>\n",
       "      <td>Thursday</td>\n",
       "      <td>Not Applicable (Non-Fatal)</td>\n",
       "      <td>None</td>\n",
       "      <td>0</td>\n",
       "      <td>...</td>\n",
       "      <td>NaN</td>\n",
       "      <td>Male</td>\n",
       "      <td>No</td>\n",
       "      <td>75</td>\n",
       "      <td>17:25</td>\n",
       "      <td>65</td>\n",
       "      <td>Station Wagon (excluding van and truck based)</td>\n",
       "      <td>2T1KU4EE9BC6</td>\n",
       "      <td>2018</td>\n",
       "      <td>92173</td>\n",
       "    </tr>\n",
       "  </tbody>\n",
       "</table>\n",
       "<p>5 rows × 29 columns</p>\n",
       "</div>"
      ],
      "text/plain": [
       "   Unnamed: 0  Age  Age Name  Case Number          County        DOA Name  \\\n",
       "0           0   22  22 Years        60005  SAN DIEGO (73)   Died at Scene   \n",
       "1           1   53  53 Years        60005  SAN DIEGO (73)  Not Applicable   \n",
       "2           2   67  67 Years        60006  SAN DIEGO (73)   Died at Scene   \n",
       "3           3   30  30 Years        60007  SAN DIEGO (73)  Not Applicable   \n",
       "4           4   30  30 Years        60007  SAN DIEGO (73)  Not Applicable   \n",
       "\n",
       "  Day of Week          Death Day of Month  \\\n",
       "0    Thursday                           9   \n",
       "1    Thursday  Not Applicable (Non-Fatal)   \n",
       "2    Thursday                           3   \n",
       "3    Thursday  Not Applicable (Non-Fatal)   \n",
       "4    Thursday  Not Applicable (Non-Fatal)   \n",
       "\n",
       "                             Description of Veh Coll  Drunk Driver  ...  \\\n",
       "0  Motor Vehicle struck by falling cargo,or somet...             0  ...   \n",
       "1  Motor Vehicle struck by falling cargo,or somet...             0  ...   \n",
       "2                                               None             1  ...   \n",
       "3                                               None             0  ...   \n",
       "4                                               None             0  ...   \n",
       "\n",
       "                             Road Type     Sex       Speed Limit Exceeded  \\\n",
       "0  Urban-Principal Arterial-Interstate    Male  Yes, Exceeded Speed Limit   \n",
       "1  Urban-Principal Arterial-Interstate  Female                         No   \n",
       "2           Rural-Local Road or Street    Male                         No   \n",
       "3                                  NaN    Male                         No   \n",
       "4                                  NaN    Male                         No   \n",
       "\n",
       "   Speed limit Time of Accident Traveled Speed Veh  \\\n",
       "0           95            16:10                 65   \n",
       "1           45            16:10                 65   \n",
       "2           30             18:8                 35   \n",
       "3           75            17:25                 65   \n",
       "4           75            17:25                 65   \n",
       "\n",
       "                                 Type of Vehicle    Vin Number  Year ZIP Code  \n",
       "0                                     Motorcycle  JS1GN7EA6821  2014    77004  \n",
       "1                          4-door sedan, hardtop  KMHWF25S23A7  2014    91911  \n",
       "2  Station Wagon (excluding van and truck based)  YV1AA885XM18  2013    92028  \n",
       "3  Station Wagon (excluding van and truck based)  2T1KU4EE9BC6  2018    92173  \n",
       "4  Station Wagon (excluding van and truck based)  2T1KU4EE9BC6  2018    92173  \n",
       "\n",
       "[5 rows x 29 columns]"
      ]
     },
     "execution_count": 5,
     "metadata": {},
     "output_type": "execute_result"
    }
   ],
   "source": [
    "people_df.head()"
   ]
  },
  {
   "cell_type": "code",
   "execution_count": 6,
   "metadata": {},
   "outputs": [
    {
     "data": {
      "text/plain": [
       "['Unnamed: 0',\n",
       " 'Age',\n",
       " 'Age Name',\n",
       " 'Case Number',\n",
       " 'County',\n",
       " 'DOA Name',\n",
       " 'Day of Week',\n",
       " 'Death Day of Month',\n",
       " 'Description of Veh Coll',\n",
       " 'Drunk Driver',\n",
       " 'Hour',\n",
       " 'Injury Severity Name',\n",
       " 'Lat',\n",
       " 'Lng',\n",
       " 'Make',\n",
       " 'Make/Model',\n",
       " 'Model',\n",
       " 'Month',\n",
       " 'Race',\n",
       " 'Road Type',\n",
       " 'Sex',\n",
       " 'Speed Limit Exceeded',\n",
       " 'Speed limit',\n",
       " 'Time of Accident',\n",
       " 'Traveled Speed Veh',\n",
       " 'Type of Vehicle',\n",
       " 'Vin Number',\n",
       " 'Year',\n",
       " 'ZIP Code']"
      ]
     },
     "execution_count": 6,
     "metadata": {},
     "output_type": "execute_result"
    }
   ],
   "source": [
    "list(people_df.columns)"
   ]
  },
  {
   "cell_type": "code",
   "execution_count": null,
   "metadata": {},
   "outputs": [],
   "source": []
  },
  {
   "cell_type": "code",
   "execution_count": 7,
   "metadata": {},
   "outputs": [
    {
     "data": {
      "image/png": "[encoded data removed]",
      "text/plain": [
       "<Figure size 432x288 with 1 Axes>"
      ]
     },
     "metadata": {},
     "output_type": "display_data"
    }
   ],
   "source": [
    "drunk_driver = people_df[\"Drunk Driver\"].value_counts()\n",
    "drunk_driver.plot(kind=\"pie\", startangle=140, shadow=True, autopct=\"%1.1f%%\", explode=(0.1,0,0))\n",
    "plt.title(\"Number of Drunk Drivers Involved in Accident\")\n",
    "plt.axis('equal')\n",
    "plt.legend(loc=\"best\")\n",
    "plt.savefig(\"../Images/DrunkDrivers.png\")"
   ]
  },
  {
   "cell_type": "code",
   "execution_count": 8,
   "metadata": {},
   "outputs": [
    {
     "data": {
      "text/plain": [
       "No                                             3065\n",
       "Yes, Too Fast for Conditions                    474\n",
       "Yes                                             282\n",
       "Unknown                                         113\n",
       "Yes, Exceeded Speed Limit                        47\n",
       "Yes, Specifics Unknown                           24\n",
       "Reported as Unknown                              10\n",
       "No Driver Present/Unknown if Driver Present       8\n",
       "Yes, Racing                                       3\n",
       "Name: Speed Limit Exceeded, dtype: int64"
      ]
     },
     "execution_count": 8,
     "metadata": {},
     "output_type": "execute_result"
    }
   ],
   "source": [
    "people_df[\"Speed Limit Exceeded\"].value_counts()"
   ]
  },
  {
   "cell_type": "code",
   "execution_count": 9,
   "metadata": {},
   "outputs": [],
   "source": [
    "people_df[\"Speed Limit Exceeded\"] = people_df[\"Speed Limit Exceeded\"].replace({\"Yes, Too Fast for Conditions\": \"Yes\",\n",
    "                                                                              \"Yes, Exceeded Speed Limit\": \"Yes\",\n",
    "                                                                              \"Yes, Specifics Unknown\": \"Yes\",\n",
    "                                                                              \"Yes, Racing\": \"Yes\",\n",
    "                                                                              \"Reported as Unknown\": \"Unknown\",\n",
    "                                                                              \"No Driver Present/Unknown if Driver Present\": \"Unknown\"})\n"
   ]
  },
  {
   "cell_type": "code",
   "execution_count": 10,
   "metadata": {},
   "outputs": [
    {
     "data": {
      "text/plain": [
       "Text(0.5, 1.0, 'Was the Driver Speeding?')"
      ]
     },
     "execution_count": 10,
     "metadata": {},
     "output_type": "execute_result"
    },
    {
     "data": {
      "image/png": "[encoded data removed]",
      "text/plain": [
       "<Figure size 432x288 with 1 Axes>"
      ]
     },
     "metadata": {},
     "output_type": "display_data"
    }
   ],
   "source": [
    "speeding = people_df[\"Speed Limit Exceeded\"].value_counts()\n",
    "speeding.plot(kind=\"pie\", startangle=140, shadow=True, autopct=\"%1.1f%%\", explode=(0.1,0,0))\n",
    "plt.axis('equal')\n",
    "plt.title('Was the Driver Speeding?')"
   ]
  },
  {
   "cell_type": "code",
   "execution_count": 11,
   "metadata": {},
   "outputs": [
    {
     "data": {
      "text/plain": [
       "[537, 425, 384, 537, 564, 791, 788]"
      ]
     },
     "execution_count": 11,
     "metadata": {},
     "output_type": "execute_result"
    }
   ],
   "source": [
    "day_of_week = people_df[\"Day of Week\"].value_counts()\n",
    "my_order = [\"Monday\", \"Tuesday\", \"Wednesday\", \"Thursday\", \"Friday\", \"Saturday\", \"Sunday\"]\n",
    "day_of_week = [day_of_week[i] for i in my_order]\n",
    "day_of_week"
   ]
  },
  {
   "cell_type": "code",
   "execution_count": 12,
   "metadata": {},
   "outputs": [
    {
     "data": {
      "image/png": "[encoded data removed]",
      "text/plain": [
       "<Figure size 432x288 with 1 Axes>"
      ]
     },
     "metadata": {
      "needs_background": "light"
     },
     "output_type": "display_data"
    }
   ],
   "source": [
    "x_axis = np.arange(len(day_of_week))\n",
    "tick_locations = [value for value in x_axis]\n",
    "plt.bar(x_axis, day_of_week)\n",
    "plt.title(\"Accident Frequency by Day of Week\")\n",
    "plt.xlabel(\"Day of Week\")\n",
    "plt.ylabel(\"Number of Accidents\")\n",
    "plt.xticks(tick_locations, my_order, rotation=90)\n",
    "plt.savefig(\"../Images/DayofWeek.png\")"
   ]
  },
  {
   "cell_type": "code",
   "execution_count": 13,
   "metadata": {},
   "outputs": [
    {
     "data": {
      "text/html": [
       "<div>\n",
       "<style scoped>\n",
       "    .dataframe tbody tr th:only-of-type {\n",
       "        vertical-align: middle;\n",
       "    }\n",
       "\n",
       "    .dataframe tbody tr th {\n",
       "        vertical-align: top;\n",
       "    }\n",
       "\n",
       "    .dataframe thead th {\n",
       "        text-align: right;\n",
       "    }\n",
       "</style>\n",
       "<table border=\"1\" class=\"dataframe\">\n",
       "  <thead>\n",
       "    <tr style=\"text-align: right;\">\n",
       "      <th></th>\n",
       "      <th></th>\n",
       "      <th>Drunk Driver</th>\n",
       "    </tr>\n",
       "    <tr>\n",
       "      <th>Day of Week</th>\n",
       "      <th>Drunk Driver</th>\n",
       "      <th></th>\n",
       "    </tr>\n",
       "  </thead>\n",
       "  <tbody>\n",
       "    <tr>\n",
       "      <th rowspan=\"3\" valign=\"top\">Friday</th>\n",
       "      <th>0</th>\n",
       "      <td>399</td>\n",
       "    </tr>\n",
       "    <tr>\n",
       "      <th>1</th>\n",
       "      <td>153</td>\n",
       "    </tr>\n",
       "    <tr>\n",
       "      <th>2</th>\n",
       "      <td>12</td>\n",
       "    </tr>\n",
       "    <tr>\n",
       "      <th rowspan=\"3\" valign=\"top\">Monday</th>\n",
       "      <th>0</th>\n",
       "      <td>399</td>\n",
       "    </tr>\n",
       "    <tr>\n",
       "      <th>1</th>\n",
       "      <td>134</td>\n",
       "    </tr>\n",
       "    <tr>\n",
       "      <th>2</th>\n",
       "      <td>4</td>\n",
       "    </tr>\n",
       "    <tr>\n",
       "      <th rowspan=\"3\" valign=\"top\">Saturday</th>\n",
       "      <th>0</th>\n",
       "      <td>492</td>\n",
       "    </tr>\n",
       "    <tr>\n",
       "      <th>1</th>\n",
       "      <td>292</td>\n",
       "    </tr>\n",
       "    <tr>\n",
       "      <th>2</th>\n",
       "      <td>7</td>\n",
       "    </tr>\n",
       "    <tr>\n",
       "      <th rowspan=\"3\" valign=\"top\">Sunday</th>\n",
       "      <th>0</th>\n",
       "      <td>501</td>\n",
       "    </tr>\n",
       "    <tr>\n",
       "      <th>1</th>\n",
       "      <td>266</td>\n",
       "    </tr>\n",
       "    <tr>\n",
       "      <th>2</th>\n",
       "      <td>21</td>\n",
       "    </tr>\n",
       "    <tr>\n",
       "      <th rowspan=\"2\" valign=\"top\">Thursday</th>\n",
       "      <th>0</th>\n",
       "      <td>450</td>\n",
       "    </tr>\n",
       "    <tr>\n",
       "      <th>1</th>\n",
       "      <td>87</td>\n",
       "    </tr>\n",
       "    <tr>\n",
       "      <th rowspan=\"2\" valign=\"top\">Tuesday</th>\n",
       "      <th>0</th>\n",
       "      <td>361</td>\n",
       "    </tr>\n",
       "    <tr>\n",
       "      <th>1</th>\n",
       "      <td>64</td>\n",
       "    </tr>\n",
       "    <tr>\n",
       "      <th rowspan=\"3\" valign=\"top\">Wednesday</th>\n",
       "      <th>0</th>\n",
       "      <td>311</td>\n",
       "    </tr>\n",
       "    <tr>\n",
       "      <th>1</th>\n",
       "      <td>71</td>\n",
       "    </tr>\n",
       "    <tr>\n",
       "      <th>2</th>\n",
       "      <td>2</td>\n",
       "    </tr>\n",
       "  </tbody>\n",
       "</table>\n",
       "</div>"
      ],
      "text/plain": [
       "                          Drunk Driver\n",
       "Day of Week Drunk Driver              \n",
       "Friday      0                      399\n",
       "            1                      153\n",
       "            2                       12\n",
       "Monday      0                      399\n",
       "            1                      134\n",
       "            2                        4\n",
       "Saturday    0                      492\n",
       "            1                      292\n",
       "            2                        7\n",
       "Sunday      0                      501\n",
       "            1                      266\n",
       "            2                       21\n",
       "Thursday    0                      450\n",
       "            1                       87\n",
       "Tuesday     0                      361\n",
       "            1                       64\n",
       "Wednesday   0                      311\n",
       "            1                       71\n",
       "            2                        2"
      ]
     },
     "execution_count": 13,
     "metadata": {},
     "output_type": "execute_result"
    }
   ],
   "source": [
    "days = people_df.groupby(\"Day of Week\")\n",
    "days_drunk_df = pd.DataFrame(days[\"Drunk Driver\"].value_counts())\n",
    "days_drunk_df"
   ]
  },
  {
   "cell_type": "code",
   "execution_count": 14,
   "metadata": {},
   "outputs": [
    {
     "data": {
      "text/plain": [
       "Drunk Driver    399\n",
       "Name: 0, dtype: int64"
      ]
     },
     "execution_count": 14,
     "metadata": {},
     "output_type": "execute_result"
    }
   ],
   "source": [
    "days_drunk_df.loc['Friday'].loc[0]"
   ]
  },
  {
   "cell_type": "code",
   "execution_count": 15,
   "metadata": {},
   "outputs": [
    {
     "ename": "KeyError",
     "evalue": "2",
     "output_type": "error",
     "traceback": [
      "\u001b[1;31m---------------------------------------------------------------------------\u001b[0m",
      "\u001b[1;31mKeyError\u001b[0m                                  Traceback (most recent call last)",
      "\u001b[1;32m<ipython-input-15-e67c2fd23119>\u001b[0m in \u001b[0;36m<module>\u001b[1;34m\u001b[0m\n\u001b[0;32m      6\u001b[0m \u001b[1;33m\u001b[0m\u001b[0m\n\u001b[0;32m      7\u001b[0m \u001b[0mtwo_drunk_drivers\u001b[0m \u001b[1;33m=\u001b[0m \u001b[1;33m[\u001b[0m\u001b[1;33m]\u001b[0m\u001b[1;33m\u001b[0m\u001b[1;33m\u001b[0m\u001b[0m\n\u001b[1;32m----> 8\u001b[1;33m \u001b[0mtwo_drunk_drivers\u001b[0m \u001b[1;33m=\u001b[0m \u001b[1;33m[\u001b[0m\u001b[0mdays_drunk_df\u001b[0m\u001b[1;33m[\u001b[0m\u001b[1;34m\"Drunk Driver\"\u001b[0m\u001b[1;33m]\u001b[0m\u001b[1;33m[\u001b[0m\u001b[0mi\u001b[0m\u001b[1;33m]\u001b[0m\u001b[1;33m[\u001b[0m\u001b[1;36m2\u001b[0m\u001b[1;33m]\u001b[0m \u001b[1;32mfor\u001b[0m \u001b[0mi\u001b[0m \u001b[1;32min\u001b[0m \u001b[0mmy_order\u001b[0m \u001b[1;32mif\u001b[0m \u001b[0mi\u001b[0m \u001b[1;33m!=\u001b[0m\u001b[1;34m\"Tuesday\"\u001b[0m\u001b[1;33m]\u001b[0m\u001b[1;33m\u001b[0m\u001b[1;33m\u001b[0m\u001b[0m\n\u001b[0m\u001b[0;32m      9\u001b[0m \u001b[0mtwo_drunk_drivers\u001b[0m\u001b[1;33m.\u001b[0m\u001b[0minsert\u001b[0m\u001b[1;33m(\u001b[0m\u001b[1;36m1\u001b[0m\u001b[1;33m,\u001b[0m\u001b[1;36m0\u001b[0m\u001b[1;33m)\u001b[0m\u001b[1;33m\u001b[0m\u001b[1;33m\u001b[0m\u001b[0m\n\u001b[0;32m     10\u001b[0m \u001b[0mtwo_drunk_drivers\u001b[0m\u001b[1;33m\u001b[0m\u001b[1;33m\u001b[0m\u001b[0m\n",
      "\u001b[1;32m<ipython-input-15-e67c2fd23119>\u001b[0m in \u001b[0;36m<listcomp>\u001b[1;34m(.0)\u001b[0m\n\u001b[0;32m      6\u001b[0m \u001b[1;33m\u001b[0m\u001b[0m\n\u001b[0;32m      7\u001b[0m \u001b[0mtwo_drunk_drivers\u001b[0m \u001b[1;33m=\u001b[0m \u001b[1;33m[\u001b[0m\u001b[1;33m]\u001b[0m\u001b[1;33m\u001b[0m\u001b[1;33m\u001b[0m\u001b[0m\n\u001b[1;32m----> 8\u001b[1;33m \u001b[0mtwo_drunk_drivers\u001b[0m \u001b[1;33m=\u001b[0m \u001b[1;33m[\u001b[0m\u001b[0mdays_drunk_df\u001b[0m\u001b[1;33m[\u001b[0m\u001b[1;34m\"Drunk Driver\"\u001b[0m\u001b[1;33m]\u001b[0m\u001b[1;33m[\u001b[0m\u001b[0mi\u001b[0m\u001b[1;33m]\u001b[0m\u001b[1;33m[\u001b[0m\u001b[1;36m2\u001b[0m\u001b[1;33m]\u001b[0m \u001b[1;32mfor\u001b[0m \u001b[0mi\u001b[0m \u001b[1;32min\u001b[0m \u001b[0mmy_order\u001b[0m \u001b[1;32mif\u001b[0m \u001b[0mi\u001b[0m \u001b[1;33m!=\u001b[0m\u001b[1;34m\"Tuesday\"\u001b[0m\u001b[1;33m]\u001b[0m\u001b[1;33m\u001b[0m\u001b[1;33m\u001b[0m\u001b[0m\n\u001b[0m\u001b[0;32m      9\u001b[0m \u001b[0mtwo_drunk_drivers\u001b[0m\u001b[1;33m.\u001b[0m\u001b[0minsert\u001b[0m\u001b[1;33m(\u001b[0m\u001b[1;36m1\u001b[0m\u001b[1;33m,\u001b[0m\u001b[1;36m0\u001b[0m\u001b[1;33m)\u001b[0m\u001b[1;33m\u001b[0m\u001b[1;33m\u001b[0m\u001b[0m\n\u001b[0;32m     10\u001b[0m \u001b[0mtwo_drunk_drivers\u001b[0m\u001b[1;33m\u001b[0m\u001b[1;33m\u001b[0m\u001b[0m\n",
      "\u001b[1;32m~\\Anaconda3\\envs\\PythonData\\lib\\site-packages\\pandas\\core\\series.py\u001b[0m in \u001b[0;36m__getitem__\u001b[1;34m(self, key)\u001b[0m\n\u001b[0;32m    869\u001b[0m         \u001b[0mkey\u001b[0m \u001b[1;33m=\u001b[0m \u001b[0mcom\u001b[0m\u001b[1;33m.\u001b[0m\u001b[0mapply_if_callable\u001b[0m\u001b[1;33m(\u001b[0m\u001b[0mkey\u001b[0m\u001b[1;33m,\u001b[0m \u001b[0mself\u001b[0m\u001b[1;33m)\u001b[0m\u001b[1;33m\u001b[0m\u001b[1;33m\u001b[0m\u001b[0m\n\u001b[0;32m    870\u001b[0m         \u001b[1;32mtry\u001b[0m\u001b[1;33m:\u001b[0m\u001b[1;33m\u001b[0m\u001b[1;33m\u001b[0m\u001b[0m\n\u001b[1;32m--> 871\u001b[1;33m             \u001b[0mresult\u001b[0m \u001b[1;33m=\u001b[0m \u001b[0mself\u001b[0m\u001b[1;33m.\u001b[0m\u001b[0mindex\u001b[0m\u001b[1;33m.\u001b[0m\u001b[0mget_value\u001b[0m\u001b[1;33m(\u001b[0m\u001b[0mself\u001b[0m\u001b[1;33m,\u001b[0m \u001b[0mkey\u001b[0m\u001b[1;33m)\u001b[0m\u001b[1;33m\u001b[0m\u001b[1;33m\u001b[0m\u001b[0m\n\u001b[0m\u001b[0;32m    872\u001b[0m \u001b[1;33m\u001b[0m\u001b[0m\n\u001b[0;32m    873\u001b[0m             \u001b[1;32mif\u001b[0m \u001b[1;32mnot\u001b[0m \u001b[0mis_scalar\u001b[0m\u001b[1;33m(\u001b[0m\u001b[0mresult\u001b[0m\u001b[1;33m)\u001b[0m\u001b[1;33m:\u001b[0m\u001b[1;33m\u001b[0m\u001b[1;33m\u001b[0m\u001b[0m\n",
      "\u001b[1;32m~\\Anaconda3\\envs\\PythonData\\lib\\site-packages\\pandas\\core\\indexes\\base.py\u001b[0m in \u001b[0;36mget_value\u001b[1;34m(self, series, key)\u001b[0m\n\u001b[0;32m   4403\u001b[0m         \u001b[0mk\u001b[0m \u001b[1;33m=\u001b[0m \u001b[0mself\u001b[0m\u001b[1;33m.\u001b[0m\u001b[0m_convert_scalar_indexer\u001b[0m\u001b[1;33m(\u001b[0m\u001b[0mk\u001b[0m\u001b[1;33m,\u001b[0m \u001b[0mkind\u001b[0m\u001b[1;33m=\u001b[0m\u001b[1;34m\"getitem\"\u001b[0m\u001b[1;33m)\u001b[0m\u001b[1;33m\u001b[0m\u001b[1;33m\u001b[0m\u001b[0m\n\u001b[0;32m   4404\u001b[0m         \u001b[1;32mtry\u001b[0m\u001b[1;33m:\u001b[0m\u001b[1;33m\u001b[0m\u001b[1;33m\u001b[0m\u001b[0m\n\u001b[1;32m-> 4405\u001b[1;33m             \u001b[1;32mreturn\u001b[0m \u001b[0mself\u001b[0m\u001b[1;33m.\u001b[0m\u001b[0m_engine\u001b[0m\u001b[1;33m.\u001b[0m\u001b[0mget_value\u001b[0m\u001b[1;33m(\u001b[0m\u001b[0ms\u001b[0m\u001b[1;33m,\u001b[0m \u001b[0mk\u001b[0m\u001b[1;33m,\u001b[0m \u001b[0mtz\u001b[0m\u001b[1;33m=\u001b[0m\u001b[0mgetattr\u001b[0m\u001b[1;33m(\u001b[0m\u001b[0mseries\u001b[0m\u001b[1;33m.\u001b[0m\u001b[0mdtype\u001b[0m\u001b[1;33m,\u001b[0m \u001b[1;34m\"tz\"\u001b[0m\u001b[1;33m,\u001b[0m \u001b[1;32mNone\u001b[0m\u001b[1;33m)\u001b[0m\u001b[1;33m)\u001b[0m\u001b[1;33m\u001b[0m\u001b[1;33m\u001b[0m\u001b[0m\n\u001b[0m\u001b[0;32m   4406\u001b[0m         \u001b[1;32mexcept\u001b[0m \u001b[0mKeyError\u001b[0m \u001b[1;32mas\u001b[0m \u001b[0me1\u001b[0m\u001b[1;33m:\u001b[0m\u001b[1;33m\u001b[0m\u001b[1;33m\u001b[0m\u001b[0m\n\u001b[0;32m   4407\u001b[0m             \u001b[1;32mif\u001b[0m \u001b[0mlen\u001b[0m\u001b[1;33m(\u001b[0m\u001b[0mself\u001b[0m\u001b[1;33m)\u001b[0m \u001b[1;33m>\u001b[0m \u001b[1;36m0\u001b[0m \u001b[1;32mand\u001b[0m \u001b[1;33m(\u001b[0m\u001b[0mself\u001b[0m\u001b[1;33m.\u001b[0m\u001b[0mholds_integer\u001b[0m\u001b[1;33m(\u001b[0m\u001b[1;33m)\u001b[0m \u001b[1;32mor\u001b[0m \u001b[0mself\u001b[0m\u001b[1;33m.\u001b[0m\u001b[0mis_boolean\u001b[0m\u001b[1;33m(\u001b[0m\u001b[1;33m)\u001b[0m\u001b[1;33m)\u001b[0m\u001b[1;33m:\u001b[0m\u001b[1;33m\u001b[0m\u001b[1;33m\u001b[0m\u001b[0m\n",
      "\u001b[1;32mpandas\\_libs\\index.pyx\u001b[0m in \u001b[0;36mpandas._libs.index.IndexEngine.get_value\u001b[1;34m()\u001b[0m\n",
      "\u001b[1;32mpandas\\_libs\\index.pyx\u001b[0m in \u001b[0;36mpandas._libs.index.IndexEngine.get_value\u001b[1;34m()\u001b[0m\n",
      "\u001b[1;32mpandas\\_libs\\index.pyx\u001b[0m in \u001b[0;36mpandas._libs.index.IndexEngine.get_loc\u001b[1;34m()\u001b[0m\n",
      "\u001b[1;32mpandas\\_libs\\hashtable_class_helper.pxi\u001b[0m in \u001b[0;36mpandas._libs.hashtable.Int64HashTable.get_item\u001b[1;34m()\u001b[0m\n",
      "\u001b[1;32mpandas\\_libs\\hashtable_class_helper.pxi\u001b[0m in \u001b[0;36mpandas._libs.hashtable.Int64HashTable.get_item\u001b[1;34m()\u001b[0m\n",
      "\u001b[1;31mKeyError\u001b[0m: 2"
     ]
    }
   ],
   "source": [
    "no_drunk_drivers = []\n",
    "no_drunk_drivers = [days_drunk_df[\"Drunk Driver\"][i][0] for i in my_order]\n",
    "\n",
    "one_drunk_driver = []\n",
    "one_drunk_driver = [days_drunk_df[\"Drunk Driver\"][i][1] for i in my_order]\n",
    "\n",
    "two_drunk_drivers = []\n",
    "two_drunk_drivers = [days_drunk_df[\"Drunk Driver\"][i][2] for i in my_order if i !=\"Tuesday\"]\n",
    "two_drunk_drivers.insert(1,0)\n",
    "two_drunk_drivers"
   ]
  },
  {
   "cell_type": "code",
   "execution_count": null,
   "metadata": {},
   "outputs": [],
   "source": [
    "fig, ax = plt.subplots()\n",
    "\n",
    "# Heights of bars1 + bars2\n",
    "bars = np.add(no_drunk_drivers, one_drunk_driver).tolist()\n",
    "\n",
    "ax.bar(my_order, no_drunk_drivers, label = \"None\")\n",
    "ax.bar(my_order, one_drunk_driver, label = \"One\", bottom=no_drunk_drivers)\n",
    "ax.bar(my_order, two_drunk_drivers, label = \"Two\", bottom=bars)\n",
    "\n",
    "ax.set_ylabel('Number of Accidents')\n",
    "ax.set_title('Number of Drunk Drivers in Accidents by Day of Week')\n",
    "ax.set_xlabel('Day of Week')\n",
    "plt.xticks(rotation=90)\n",
    "ax.legend()\n",
    "\n",
    "plt.savefig(\"../Images/DrunkDriversbyDayofWeek.png\")\n",
    "plt.show()"
   ]
  },
  {
   "cell_type": "code",
   "execution_count": null,
   "metadata": {},
   "outputs": [],
   "source": [
    "day_of_week = people_df[\"Day of Week\"].value_counts()\n",
    "day_of_week.plot(kind=\"bar\")\n",
    "plt.title(\"Accident Frequency by Day of Week\")\n",
    "plt.xlabel(\"Day of Week\")\n",
    "plt.ylabel(\"Number of Accidents\")"
   ]
  },
  {
   "cell_type": "code",
   "execution_count": null,
   "metadata": {},
   "outputs": [],
   "source": [
    "# Create the bins in which Data will be held\n",
    "bins = [0, 3, 7, 11, 15, 19, 24]\n",
    "\n",
    "# Create the names for the four bins\n",
    "group_names = [\"Midnight - 3:59 a.m.\", \"4 a.m. - 7:59 a.m.\", \"8 a.m. - 11:59 a.m.\", \"Noon - 3:59 p.m.\", \"4 p.m. - 7:59 p.m.\", \"8 p.m. - 11:59 p.m.\"]"
   ]
  },
  {
   "cell_type": "code",
   "execution_count": null,
   "metadata": {},
   "outputs": [],
   "source": [
    "people_df[\"Time Range\"] = pd.cut(people_df[\"Hour\"], bins, labels=group_names, include_lowest=True)\n",
    "people_df"
   ]
  },
  {
   "cell_type": "code",
   "execution_count": null,
   "metadata": {},
   "outputs": [],
   "source": [
    "time = people_df.groupby(\"Time Range\")\n",
    "time_df = time.count()\n",
    "time_df = time_df.rename(columns={\"Case Number\": \"Number of Cases\"})\n",
    "time_df"
   ]
  },
  {
   "cell_type": "code",
   "execution_count": null,
   "metadata": {},
   "outputs": [],
   "source": [
    "time_df = time_df[[\"Number of Cases\"]]\n",
    "time_df.plot(kind=\"bar\")\n",
    "plt.title(\"Accident Frequency by Time of Day\")\n",
    "plt.savefig(\"../Images/TimeofDay.png\")"
   ]
  },
  {
   "cell_type": "code",
   "execution_count": null,
   "metadata": {},
   "outputs": [],
   "source": [
    "time_drunk = pd.DataFrame(time[\"Drunk Driver\"].value_counts())\n",
    "time_drunk"
   ]
  },
  {
   "cell_type": "code",
   "execution_count": null,
   "metadata": {},
   "outputs": [],
   "source": [
    "none = []\n",
    "none = [time_drunk[\"Drunk Driver\"][i][0] for i in group_names]\n",
    "\n",
    "one = []\n",
    "one = [time_drunk[\"Drunk Driver\"][i][1] for i in group_names]\n",
    "\n",
    "two = [time_drunk[\"Drunk Driver\"][\"Midnight - 3:59 a.m.\"][2], time_drunk[\"Drunk Driver\"][\"8 p.m. - 11:59 p.m.\"][2]]\n",
    "two.insert(1,0)\n",
    "two.insert(2,0)\n",
    "two.insert(3,0)\n",
    "two.insert(4,0)\n",
    "two"
   ]
  },
  {
   "cell_type": "code",
   "execution_count": null,
   "metadata": {},
   "outputs": [],
   "source": [
    "max_cases = time_df[\"Number of Cases\"].max()\n",
    "max_cases"
   ]
  },
  {
   "cell_type": "code",
   "execution_count": null,
   "metadata": {},
   "outputs": [],
   "source": [
    "fig, ax = plt.subplots()\n",
    "\n",
    "# Heights of bars1 + bars2\n",
    "bars1 = np.add(none, one).tolist()\n",
    "\n",
    "ax.bar(group_names, none, label = \"None\")\n",
    "ax.bar(group_names, one, label = \"One\", bottom=none)\n",
    "ax.bar(group_names, two, label = \"Two\", bottom=bars1)\n",
    "\n",
    "ax.set_ylabel('Number of Accidents')\n",
    "ax.set_title('Number of Drunk Drivers in Accidents by Time of Day')\n",
    "ax.set_xlabel('Time of Day')\n",
    "plt.xticks(rotation=90)\n",
    "ax.legend()\n",
    "\n",
    "plt.ylim(0,)\n",
    "plt.savefig(\"../Images/DrunkDriversbyTimeofDay.png\")\n",
    "plt.show()"
   ]
  },
  {
   "cell_type": "code",
   "execution_count": null,
   "metadata": {},
   "outputs": [],
   "source": [
    "time = people_df.groupby(\"Time Range\")\n",
    "time_df = time.count()\n",
    "time_df"
   ]
  },
  {
   "cell_type": "code",
   "execution_count": null,
   "metadata": {},
   "outputs": [],
   "source": [
    "time_df = time_df[[\"Case Number\"]]\n",
    "time_df = time_df.rename(columns={\"Case Number\": \"Number of Cases\"})\n",
    "time_df.plot(kind=\"bar\")\n",
    "plt.title(\"Accident Frequency by Time of Day\")"
   ]
  },
  {
   "cell_type": "code",
   "execution_count": null,
   "metadata": {},
   "outputs": [],
   "source": [
    "people_df[\"Sex\"].value_counts()"
   ]
  },
  {
   "cell_type": "code",
   "execution_count": null,
   "metadata": {},
   "outputs": [],
   "source": [
    "people_df[\"Sex\"] = people_df[\"Sex\"].replace({\"Reported as Unknown\": \"Unknown\",\n",
    "                                            \"Not Reported\": \"Unknown\"})\n",
    "gender = people_df[\"Sex\"].value_counts()\n",
    "gender"
   ]
  },
  {
   "cell_type": "code",
   "execution_count": null,
   "metadata": {},
   "outputs": [],
   "source": [
    "gender.plot(kind=\"pie\", startangle=140, shadow=True, autopct=\"%1.1f%%\", explode=(0.1,0,0))\n",
    "plt.axis('equal')\n",
    "plt.title(\"Gender of Driver\")"
   ]
  },
  {
   "cell_type": "code",
   "execution_count": null,
   "metadata": {},
   "outputs": [],
   "source": [
    "death1= people_df.groupby(['Case Number','DOA Name'])\n",
    "death1.head()"
   ]
  },
  {
   "cell_type": "code",
   "execution_count": null,
   "metadata": {},
   "outputs": [],
   "source": [
    "death1.nunique()"
   ]
  },
  {
   "cell_type": "code",
   "execution_count": null,
   "metadata": {},
   "outputs": [],
   "source": [
    "new = pd.DataFrame(death1.nunique())\n",
    "new"
   ]
  },
  {
   "cell_type": "code",
   "execution_count": null,
   "metadata": {},
   "outputs": [],
   "source": [
    "new2=pd.DataFrame(new,columns =['Case Number'])\n",
    "new2"
   ]
  },
  {
   "cell_type": "code",
   "execution_count": null,
   "metadata": {},
   "outputs": [],
   "source": [
    "\n",
    "chart = new2.plot(kind=\"bar\", title=\"testing\")\n",
    "chart.set_xlabel(\"DOA Name\")\n",
    "chart.set_ylabel(\"Case Number\")\n",
    "\n",
    "plt.show()\n"
   ]
  },
  {
   "cell_type": "code",
   "execution_count": 44,
   "metadata": {},
   "outputs": [
    {
     "data": {
      "text/plain": [
       "Unnamed: 0                   int64\n",
       "Age                          int64\n",
       "Age Name                    object\n",
       "Case Number                  int64\n",
       "County                      object\n",
       "DOA Name                    object\n",
       "Day of Week                 object\n",
       "Death Day of Month          object\n",
       "Description of Veh Coll     object\n",
       "Drunk Driver                 int64\n",
       "Hour                         int64\n",
       "Injury Severity Name        object\n",
       "Lat                        float64\n",
       "Lng                        float64\n",
       "Make                        object\n",
       "Make/Model                  object\n",
       "Model                       object\n",
       "Month                       object\n",
       "Race                        object\n",
       "Road Type                   object\n",
       "Sex                         object\n",
       "Speed Limit Exceeded        object\n",
       "Speed limit                  int64\n",
       "Time of Accident            object\n",
       "Traveled Speed Veh           int64\n",
       "Type of Vehicle             object\n",
       "Vin Number                  object\n",
       "Year                         int64\n",
       "ZIP Code                     int64\n",
       "dtype: object"
      ]
     },
     "execution_count": 44,
     "metadata": {},
     "output_type": "execute_result"
    }
   ],
   "source": [
    "# Prepare for boxplot and ANOVA of age by number of drunk drivers\n",
    "people_df.dtypes"
   ]
  },
  {
   "cell_type": "code",
   "execution_count": 45,
   "metadata": {},
   "outputs": [
    {
     "data": {
      "text/plain": [
       "Unnamed: 0                   int64\n",
       "Age                          int64\n",
       "Age Name                    object\n",
       "Case Number                  int64\n",
       "County                      object\n",
       "DOA Name                    object\n",
       "Day of Week                 object\n",
       "Death Day of Month          object\n",
       "Description of Veh Coll     object\n",
       "Drunk Driver                 int64\n",
       "Hour                         int64\n",
       "Injury Severity Name        object\n",
       "Lat                        float64\n",
       "Lng                        float64\n",
       "Make                        object\n",
       "Make/Model                  object\n",
       "Model                       object\n",
       "Month                       object\n",
       "Race                        object\n",
       "Road Type                   object\n",
       "Sex                         object\n",
       "Speed Limit Exceeded        object\n",
       "Speed limit                  int64\n",
       "Time of Accident            object\n",
       "Traveled Speed Veh           int64\n",
       "Type of Vehicle             object\n",
       "Vin Number                  object\n",
       "Year                         int64\n",
       "ZIP Code                     int64\n",
       "dtype: object"
      ]
     },
     "execution_count": 45,
     "metadata": {},
     "output_type": "execute_result"
    }
   ],
   "source": [
    "people_df[\"Age\"] = pd.to_numeric(people_df[\"Age\"], errors='coerce')\n",
    "people_df.dtypes"
   ]
  },
  {
   "cell_type": "code",
   "execution_count": 57,
   "metadata": {},
   "outputs": [
    {
     "name": "stdout",
     "output_type": "stream",
     "text": [
      "1554\n"
     ]
    }
   ],
   "source": [
    "people_df_age = people_df.dropna()\n",
    "people_df_age = people_df_age[people_df_age.Age != 998]\n",
    "people_df_age = people_df_age[people_df_age.Age != 999]\n",
    "print(len(people_df_age))"
   ]
  },
  {
   "cell_type": "code",
   "execution_count": 61,
   "metadata": {},
   "outputs": [
    {
     "data": {
      "image/png": "[encoded data removed]",
      "text/plain": [
       "<Figure size 1440x720 with 1 Axes>"
      ]
     },
     "metadata": {
      "needs_background": "light"
     },
     "output_type": "display_data"
    }
   ],
   "source": [
    "# Create a boxplot to compare means\n",
    "people_df_age.boxplot(\"Age\", by=\"Drunk Driver\", figsize=(20, 10))\n",
    "plt.savefig(\"../Images/AgeBoxplot.png\")"
   ]
  },
  {
   "cell_type": "code",
   "execution_count": 62,
   "metadata": {},
   "outputs": [],
   "source": [
    "# Extract individual groups\n",
    "none = people_df_age[people_df_age[\"Drunk Driver\"] == 0][\"Age\"]\n",
    "one = people_df_age[people_df_age[\"Drunk Driver\"] == 1][\"Age\"]\n",
    "two = people_df_age[people_df_age[\"Drunk Driver\"] == 2][\"Age\"]"
   ]
  },
  {
   "cell_type": "code",
   "execution_count": 63,
   "metadata": {},
   "outputs": [
    {
     "data": {
      "text/plain": [
       "F_onewayResult(statistic=47.5844060622521, pvalue=8.781642084571736e-21)"
      ]
     },
     "execution_count": 63,
     "metadata": {},
     "output_type": "execute_result"
    }
   ],
   "source": [
    "# Perform the ANOVA\n",
    "stats.f_oneway(none, one, two)"
   ]
  },
  {
   "cell_type": "code",
   "execution_count": null,
   "metadata": {},
   "outputs": [],
   "source": []
  }
 ],
 "metadata": {
  "kernelspec": {
   "display_name": "Python 3",
   "language": "python",
   "name": "python3"
  },
  "language_info": {
   "codemirror_mode": {
    "name": "ipython",
    "version": 3
   },
   "file_extension": ".py",
   "mimetype": "text/x-python",
   "name": "python",
   "nbconvert_exporter": "python",
   "pygments_lexer": "ipython3",
   "version": "3.6.10"
  }
 },
 "nbformat": 4,
 "nbformat_minor": 2
}
