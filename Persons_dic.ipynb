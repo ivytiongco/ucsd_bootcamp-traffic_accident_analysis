{
 "cells": [
  {
   "cell_type": "code",
   "execution_count": 67,
   "metadata": {},
   "outputs": [],
   "source": [
    "import requests\n",
    "import json\n",
    "import pandas as pd\n"
   ]
  },
  {
   "cell_type": "code",
   "execution_count": 68,
   "metadata": {},
   "outputs": [],
   "source": [
    "url= \"https://crashviewer.nhtsa.dot.gov/CrashAPI\"\n",
    "#/crashes/GetCrashesByLocation?fromCaseYear=2014&toCaseYear=2015&state=1&county=1&format=json\n",
    "#/crashes/GetCrashesByVehicle?make=6&model=41&modelyear=2003&bodyType=4&fromCaseYear=2010&toCaseYear=2015 &state=21&format=json\n",
    "#/crashes/GetCaseList?states=1,51&fromYear=2014&toYear=2015&minNumOfVehicles=1&maxNumOfVehicles=6&format=json\n",
    "#/crashes/GetCaseDetails?stateCase=10003&caseYear=2014&state=1&format=json\n",
    "\n",
    "fromCaseYear = \"2010\"\n",
    "toCaseYear = \"2020\"\n",
    "state = \"6\"\n",
    "qurl =f\"{url}/crashes/GetCaseDetails?stateCase=60005&caseYear=2014&state=6&format=json\"\n",
    "#qurl = f\"{url}/crashes/GetCrashesByLocation?fromCaseYear={fromCaseYear}&toCaseYear={toCaseYear}&state={state}&county=73&format=json\"\n",
    "cali2=requests.get(qurl).json()\n"
   ]
  },
  {
   "cell_type": "code",
   "execution_count": 69,
   "metadata": {},
   "outputs": [
    {
     "data": {
      "text/plain": [
       "[{'AGE': '22',\n",
       "  'AGENAME': '22 Years',\n",
       "  'AIR_BAG': '0',\n",
       "  'AIR_BAGNAME': 'Not Applicable',\n",
       "  'ALC_DET': '9',\n",
       "  'ALC_DETNAME': 'Not Reported',\n",
       "  'ALC_RES': '96',\n",
       "  'ALC_RESNAME': 'Test Not Given',\n",
       "  'ALC_STATUS': '0',\n",
       "  'ALC_STATUSNAME': 'Test Not Given',\n",
       "  'ATST_TYP': '0',\n",
       "  'ATST_TYPNAME': 'Test Not Given',\n",
       "  'BODY_TYP': '80',\n",
       "  'BODY_TYPNAME': 'Motorcycle',\n",
       "  'CERT_NO': '************',\n",
       "  'COUNTY': '73',\n",
       "  'COUNTYNAME': 'SAN DIEGO (73)',\n",
       "  'CaseYear': '2014',\n",
       "  'DAY': '9',\n",
       "  'DEATH_DA': '9',\n",
       "  'DEATH_DANAME': '9',\n",
       "  'DEATH_HR': '16',\n",
       "  'DEATH_HRNAME': '16:00-16:59',\n",
       "  'DEATH_MN': '10',\n",
       "  'DEATH_MNNAME': '10',\n",
       "  'DEATH_MO': '1',\n",
       "  'DEATH_MONAME': 'January',\n",
       "  'DEATH_TM': '1610',\n",
       "  'DEATH_YR': '2014',\n",
       "  'DEATH_YRNAME': '2014',\n",
       "  'DOA': '7',\n",
       "  'DOANAME': 'Died at Scene',\n",
       "  'DRINKING': '9',\n",
       "  'DRINKINGNAME': 'Unknown (Police Reported)',\n",
       "  'DRUGRES1': '0',\n",
       "  'DRUGRES1NAME': 'Test Not Given',\n",
       "  'DRUGRES2': '0',\n",
       "  'DRUGRES2NAME': 'Test Not Given',\n",
       "  'DRUGRES3': '0',\n",
       "  'DRUGRES3NAME': 'Test Not Given',\n",
       "  'DRUGS': '9',\n",
       "  'DRUGSNAME': 'Unknown',\n",
       "  'DRUGTST1': '0',\n",
       "  'DRUGTST1NAME': 'Test Not Given',\n",
       "  'DRUGTST2': '0',\n",
       "  'DRUGTST2NAME': 'Test Not Given',\n",
       "  'DRUGTST3': '0',\n",
       "  'DRUGTST3NAME': 'Test Not Given',\n",
       "  'DRUG_DET': '8',\n",
       "  'DRUG_DETNAME': 'Not Reported',\n",
       "  'DSTATUS': '0',\n",
       "  'DSTATUSNAME': 'Test Not Given',\n",
       "  'EJECTION': '8',\n",
       "  'EJECTIONNAME': 'Not Applicable',\n",
       "  'EJ_PATH': '0',\n",
       "  'EJ_PATHNAME': 'Not Ejected/Not Applicable',\n",
       "  'EMER_USE': '0',\n",
       "  'EMER_USENAME': 'Not Applicable',\n",
       "  'EXTRICAT': '0',\n",
       "  'EXTRICATNAME': 'Not Extricated or Not Applicable',\n",
       "  'FIRE_EXP': '1',\n",
       "  'FIRE_EXPNAME': 'Yes',\n",
       "  'FUNC_SYS': None,\n",
       "  'FUNC_SYSNAME': None,\n",
       "  'HARM_EV': '1',\n",
       "  'HARM_EVNAME': 'Rollover/Overturn',\n",
       "  'HISPANIC': '7',\n",
       "  'HISPANICNAME': 'Non-Hispanic',\n",
       "  'HOSPITAL': '0',\n",
       "  'HOSPITALNAME': 'Not Transported',\n",
       "  'HOUR': '16',\n",
       "  'HOURNAME': '4:00pm-4:59pm',\n",
       "  'IMPACT1': '0',\n",
       "  'IMPACT1NAME': 'Non-Collision',\n",
       "  'INJ_SEV': '4',\n",
       "  'INJ_SEVNAME': 'Fatal Injury (K)',\n",
       "  'LAG_HRS': '0',\n",
       "  'LAG_MINS': '0',\n",
       "  'LOCATION': '0',\n",
       "  'LOCATIONNAME': '0',\n",
       "  'MAKE': '53',\n",
       "  'MAKENAME': 'Suzuki',\n",
       "  'MAK_MOD': '53705',\n",
       "  'MAN_COLL': '0',\n",
       "  'MAN_COLLNAME': 'Not a Collision with Motor Vehicle In-Transport',\n",
       "  'MINUTE': '10',\n",
       "  'MINUTENAME': '10',\n",
       "  'MOD_YEAR': '2008',\n",
       "  'MOD_YEARNAME': '2008',\n",
       "  'MONTH': '1',\n",
       "  'MonthName': 'January',\n",
       "  'PER_NO': '1',\n",
       "  'PER_TYP': '1',\n",
       "  'PER_TYPNAME': 'Driver of a Motor Vehicle In-Transport',\n",
       "  'P_SF1': '0',\n",
       "  'P_SF1NAME': 'None',\n",
       "  'P_SF2': '0',\n",
       "  'P_SF2NAME': 'None',\n",
       "  'P_SF3': '0',\n",
       "  'P_SF3NAME': 'None',\n",
       "  'RACE': '2',\n",
       "  'RACENAME': 'Black',\n",
       "  'REST_MIS': '0',\n",
       "  'REST_MISNAME': 'No',\n",
       "  'REST_USE': '5',\n",
       "  'REST_USENAME': 'DOT-Compliant Motorcycle Helmet',\n",
       "  'ROAD_FNC': '11',\n",
       "  'ROAD_FNCNAME': 'Urban-Principal Arterial-Interstate',\n",
       "  'ROLLOVER': '0',\n",
       "  'ROLLOVERNAME': 'No Rollover',\n",
       "  'RUR_URB': None,\n",
       "  'RUR_URBNAME': None,\n",
       "  'SCH_BUS': '0',\n",
       "  'SCH_BUSNAME': 'No',\n",
       "  'SEAT_POS': '11',\n",
       "  'SEAT_POSNAME': 'Front Seat, Left Side',\n",
       "  'SEX': '1',\n",
       "  'SEXNAME': 'Male',\n",
       "  'SPEC_USE': '0',\n",
       "  'SPEC_USENAME': 'No Special Use',\n",
       "  'STATE': '6',\n",
       "  'STATENAME': 'California',\n",
       "  'STR_VEH': '0',\n",
       "  'STR_VEHNAME': 'Occupant of a Motor Vehicle',\n",
       "  'ST_CASE': '60005',\n",
       "  'TOW_VEH': '0',\n",
       "  'TOW_VEHNAME': 'No Trailing Units',\n",
       "  'VEH_NO': '1',\n",
       "  'VE_FORMS': '2',\n",
       "  'WORK_INJ': '0',\n",
       "  'WORK_INJNAME': 'No'}]"
      ]
     },
     "execution_count": 69,
     "metadata": {},
     "output_type": "execute_result"
    }
   ],
   "source": [
    "cali2['Results'][0][0]['CrashResultSet']['Vehicles'][0]['Persons']"
   ]
  },
  {
   "cell_type": "code",
   "execution_count": 70,
   "metadata": {},
   "outputs": [
    {
     "data": {
      "text/html": [
       "<div>\n",
       "<style scoped>\n",
       "    .dataframe tbody tr th:only-of-type {\n",
       "        vertical-align: middle;\n",
       "    }\n",
       "\n",
       "    .dataframe tbody tr th {\n",
       "        vertical-align: top;\n",
       "    }\n",
       "\n",
       "    .dataframe thead th {\n",
       "        text-align: right;\n",
       "    }\n",
       "</style>\n",
       "<table border=\"1\" class=\"dataframe\">\n",
       "  <thead>\n",
       "    <tr style=\"text-align: right;\">\n",
       "      <th></th>\n",
       "      <th>AGE</th>\n",
       "      <th>AGENAME</th>\n",
       "      <th>AIR_BAG</th>\n",
       "      <th>AIR_BAGNAME</th>\n",
       "      <th>ALC_DET</th>\n",
       "      <th>ALC_DETNAME</th>\n",
       "      <th>ALC_RES</th>\n",
       "      <th>ALC_RESNAME</th>\n",
       "      <th>ALC_STATUS</th>\n",
       "      <th>ALC_STATUSNAME</th>\n",
       "      <th>...</th>\n",
       "      <th>STATENAME</th>\n",
       "      <th>STR_VEH</th>\n",
       "      <th>STR_VEHNAME</th>\n",
       "      <th>ST_CASE</th>\n",
       "      <th>TOW_VEH</th>\n",
       "      <th>TOW_VEHNAME</th>\n",
       "      <th>VEH_NO</th>\n",
       "      <th>VE_FORMS</th>\n",
       "      <th>WORK_INJ</th>\n",
       "      <th>WORK_INJNAME</th>\n",
       "    </tr>\n",
       "  </thead>\n",
       "  <tbody>\n",
       "    <tr>\n",
       "      <th>0</th>\n",
       "      <td>22</td>\n",
       "      <td>22 Years</td>\n",
       "      <td>0</td>\n",
       "      <td>Not Applicable</td>\n",
       "      <td>9</td>\n",
       "      <td>Not Reported</td>\n",
       "      <td>96</td>\n",
       "      <td>Test Not Given</td>\n",
       "      <td>0</td>\n",
       "      <td>Test Not Given</td>\n",
       "      <td>...</td>\n",
       "      <td>California</td>\n",
       "      <td>0</td>\n",
       "      <td>Occupant of a Motor Vehicle</td>\n",
       "      <td>60005</td>\n",
       "      <td>0</td>\n",
       "      <td>No Trailing Units</td>\n",
       "      <td>1</td>\n",
       "      <td>2</td>\n",
       "      <td>0</td>\n",
       "      <td>No</td>\n",
       "    </tr>\n",
       "  </tbody>\n",
       "</table>\n",
       "<p>1 rows × 131 columns</p>\n",
       "</div>"
      ],
      "text/plain": [
       "  AGE   AGENAME AIR_BAG     AIR_BAGNAME ALC_DET   ALC_DETNAME ALC_RES  \\\n",
       "0  22  22 Years       0  Not Applicable       9  Not Reported      96   \n",
       "\n",
       "      ALC_RESNAME ALC_STATUS  ALC_STATUSNAME  ...   STATENAME STR_VEH  \\\n",
       "0  Test Not Given          0  Test Not Given  ...  California       0   \n",
       "\n",
       "                   STR_VEHNAME ST_CASE TOW_VEH        TOW_VEHNAME VEH_NO  \\\n",
       "0  Occupant of a Motor Vehicle   60005       0  No Trailing Units      1   \n",
       "\n",
       "  VE_FORMS WORK_INJ WORK_INJNAME  \n",
       "0        2        0           No  \n",
       "\n",
       "[1 rows x 131 columns]"
      ]
     },
     "execution_count": 70,
     "metadata": {},
     "output_type": "execute_result"
    }
   ],
   "source": [
    "persons_df=pd.DataFrame(cali2['Results'][0][0]['CrashResultSet']['Vehicles'][0]['Persons'])\n",
    "persons_df"
   ]
  },
  {
   "cell_type": "code",
   "execution_count": 71,
   "metadata": {},
   "outputs": [
    {
     "data": {
      "text/plain": [
       "1"
      ]
     },
     "execution_count": 71,
     "metadata": {},
     "output_type": "execute_result"
    }
   ],
   "source": [
    "race_count=persons_df[\"RACENAME\"].count()\n",
    "race_count"
   ]
  },
  {
   "cell_type": "code",
   "execution_count": 72,
   "metadata": {},
   "outputs": [
    {
     "data": {
      "text/plain": [
       "1"
      ]
     },
     "execution_count": 72,
     "metadata": {},
     "output_type": "execute_result"
    }
   ],
   "source": [
    "race_count=persons_df[\"ROAD_FNCNAME\"].count()\n",
    "race_count"
   ]
  },
  {
   "cell_type": "code",
   "execution_count": 73,
   "metadata": {},
   "outputs": [
    {
     "data": {
      "text/plain": [
       "1"
      ]
     },
     "execution_count": 73,
     "metadata": {},
     "output_type": "execute_result"
    }
   ],
   "source": [
    "race_count=persons_df[\"SEXNAME\"].count()\n",
    "race_count"
   ]
  },
  {
   "cell_type": "code",
   "execution_count": 74,
   "metadata": {},
   "outputs": [
    {
     "data": {
      "text/html": [
       "<div>\n",
       "<style scoped>\n",
       "    .dataframe tbody tr th:only-of-type {\n",
       "        vertical-align: middle;\n",
       "    }\n",
       "\n",
       "    .dataframe tbody tr th {\n",
       "        vertical-align: top;\n",
       "    }\n",
       "\n",
       "    .dataframe thead th {\n",
       "        text-align: right;\n",
       "    }\n",
       "</style>\n",
       "<table border=\"1\" class=\"dataframe\">\n",
       "  <thead>\n",
       "    <tr style=\"text-align: right;\">\n",
       "      <th></th>\n",
       "      <th>RACENAME</th>\n",
       "      <th>ROAD_FNCNAME</th>\n",
       "      <th>SEXNAME</th>\n",
       "    </tr>\n",
       "  </thead>\n",
       "  <tbody>\n",
       "    <tr>\n",
       "      <th>0</th>\n",
       "      <td>Black</td>\n",
       "      <td>Urban-Principal Arterial-Interstate</td>\n",
       "      <td>Male</td>\n",
       "    </tr>\n",
       "  </tbody>\n",
       "</table>\n",
       "</div>"
      ],
      "text/plain": [
       "  RACENAME                         ROAD_FNCNAME SEXNAME\n",
       "0    Black  Urban-Principal Arterial-Interstate    Male"
      ]
     },
     "execution_count": 74,
     "metadata": {},
     "output_type": "execute_result"
    }
   ],
   "source": [
    "persons_df[[\"RACENAME\",\"ROAD_FNCNAME\",\"SEXNAME\"]]"
   ]
  },
  {
   "cell_type": "code",
   "execution_count": 98,
   "metadata": {},
   "outputs": [
    {
     "data": {
      "text/html": [
       "<div>\n",
       "<style scoped>\n",
       "    .dataframe tbody tr th:only-of-type {\n",
       "        vertical-align: middle;\n",
       "    }\n",
       "\n",
       "    .dataframe tbody tr th {\n",
       "        vertical-align: top;\n",
       "    }\n",
       "\n",
       "    .dataframe thead th {\n",
       "        text-align: right;\n",
       "    }\n",
       "</style>\n",
       "<table border=\"1\" class=\"dataframe\">\n",
       "  <thead>\n",
       "    <tr style=\"text-align: right;\">\n",
       "      <th></th>\n",
       "      <th>RACENAME</th>\n",
       "      <th>ROAD_FNCNAME</th>\n",
       "      <th>SEXNAME</th>\n",
       "    </tr>\n",
       "  </thead>\n",
       "  <tbody>\n",
       "    <tr>\n",
       "      <th>0</th>\n",
       "      <td>Black</td>\n",
       "      <td>Urban-Principal Arterial-Interstate</td>\n",
       "      <td>Male</td>\n",
       "    </tr>\n",
       "  </tbody>\n",
       "</table>\n",
       "</div>"
      ],
      "text/plain": [
       "  RACENAME                         ROAD_FNCNAME SEXNAME\n",
       "0    Black  Urban-Principal Arterial-Interstate    Male"
      ]
     },
     "execution_count": 98,
     "metadata": {},
     "output_type": "execute_result"
    }
   ],
   "source": [
    "persons2=persons_df[[\"RACENAME\",\"ROAD_FNCNAME\",\"SEXNAME\"]]\n",
    "persons2"
   ]
  },
  {
   "cell_type": "code",
   "execution_count": 100,
   "metadata": {},
   "outputs": [
    {
     "data": {
      "text/html": [
       "<div>\n",
       "<style scoped>\n",
       "    .dataframe tbody tr th:only-of-type {\n",
       "        vertical-align: middle;\n",
       "    }\n",
       "\n",
       "    .dataframe tbody tr th {\n",
       "        vertical-align: top;\n",
       "    }\n",
       "\n",
       "    .dataframe thead th {\n",
       "        text-align: right;\n",
       "    }\n",
       "</style>\n",
       "<table border=\"1\" class=\"dataframe\">\n",
       "  <thead>\n",
       "    <tr style=\"text-align: right;\">\n",
       "      <th></th>\n",
       "      <th>Race</th>\n",
       "      <th>Road_Type</th>\n",
       "      <th>Sex</th>\n",
       "    </tr>\n",
       "  </thead>\n",
       "  <tbody>\n",
       "    <tr>\n",
       "      <th>0</th>\n",
       "      <td>Black</td>\n",
       "      <td>Urban-Principal Arterial-Interstate</td>\n",
       "      <td>Male</td>\n",
       "    </tr>\n",
       "  </tbody>\n",
       "</table>\n",
       "</div>"
      ],
      "text/plain": [
       "    Race                            Road_Type   Sex\n",
       "0  Black  Urban-Principal Arterial-Interstate  Male"
      ]
     },
     "execution_count": 100,
     "metadata": {},
     "output_type": "execute_result"
    }
   ],
   "source": [
    "renamed= persons2.rename(columns={\"RACENAME\":\"Race\",\"ROAD_FNCNAME\":\"Road_Type\",\"SEXNAME\":\"Sex\"})\n",
    "renamed"
   ]
  },
  {
   "cell_type": "code",
   "execution_count": 75,
   "metadata": {},
   "outputs": [
    {
     "data": {
      "text/plain": [
       "'Yes, Exceeded Speed Limit'"
      ]
     },
     "execution_count": 75,
     "metadata": {},
     "output_type": "execute_result"
    }
   ],
   "source": [
    "cali2['Results'][0][0]['CrashResultSet']['Vehicles'][0]['SPEEDRELNAME']"
   ]
  },
  {
   "cell_type": "code",
   "execution_count": 76,
   "metadata": {},
   "outputs": [
    {
     "data": {
      "text/plain": [
       "'Yes, Exceeded Speed Limit'"
      ]
     },
     "execution_count": 76,
     "metadata": {},
     "output_type": "execute_result"
    }
   ],
   "source": [
    "lanespeed =cali2['Results'][0][0]['CrashResultSet']['Vehicles'][0]['SPEEDRELNAME']\n",
    "lanespeed"
   ]
  },
  {
   "cell_type": "code",
   "execution_count": 77,
   "metadata": {},
   "outputs": [
    {
     "data": {
      "text/plain": [
       "'95'"
      ]
     },
     "execution_count": 77,
     "metadata": {},
     "output_type": "execute_result"
    }
   ],
   "source": [
    "cali2['Results'][0][0]['CrashResultSet']['Vehicles'][0]['TRAV_SP']"
   ]
  },
  {
   "cell_type": "code",
   "execution_count": 78,
   "metadata": {},
   "outputs": [
    {
     "data": {
      "text/plain": [
       "'95'"
      ]
     },
     "execution_count": 78,
     "metadata": {},
     "output_type": "execute_result"
    }
   ],
   "source": [
    "travelspeed = cali2['Results'][0][0]['CrashResultSet']['Vehicles'][0]['TRAV_SP']\n",
    "travelspeed"
   ]
  },
  {
   "cell_type": "code",
   "execution_count": 79,
   "metadata": {},
   "outputs": [
    {
     "data": {
      "text/plain": [
       "'JS1GN7EA6821'"
      ]
     },
     "execution_count": 79,
     "metadata": {},
     "output_type": "execute_result"
    }
   ],
   "source": [
    "cali2['Results'][0][0]['CrashResultSet']['Vehicles'][0]['VINNAME']"
   ]
  },
  {
   "cell_type": "code",
   "execution_count": 80,
   "metadata": {},
   "outputs": [
    {
     "data": {
      "text/plain": [
       "'JS1GN7EA6821'"
      ]
     },
     "execution_count": 80,
     "metadata": {},
     "output_type": "execute_result"
    }
   ],
   "source": [
    "vin = cali2['Results'][0][0]['CrashResultSet']['Vehicles'][0]['VINNAME']\n",
    "vin"
   ]
  },
  {
   "cell_type": "code",
   "execution_count": 81,
   "metadata": {},
   "outputs": [
    {
     "data": {
      "text/plain": [
       "'Motor Vehicle struck by falling cargo,or something that came loose from or something that was set in motion by a vehicle'"
      ]
     },
     "execution_count": 81,
     "metadata": {},
     "output_type": "execute_result"
    }
   ],
   "source": [
    "cali2['Results'][0][0]['CrashResultSet']['CF2NAME']"
   ]
  },
  {
   "cell_type": "code",
   "execution_count": 82,
   "metadata": {},
   "outputs": [
    {
     "data": {
      "text/plain": [
       "'Motor Vehicle struck by falling cargo,or something that came loose from or something that was set in motion by a vehicle'"
      ]
     },
     "execution_count": 82,
     "metadata": {},
     "output_type": "execute_result"
    }
   ],
   "source": [
    "cf2name = cali2['Results'][0][0]['CrashResultSet']['CF2NAME']\n",
    "cf2name"
   ]
  },
  {
   "cell_type": "code",
   "execution_count": 126,
   "metadata": {},
   "outputs": [
    {
     "data": {
      "text/plain": [
       "'65'"
      ]
     },
     "execution_count": 126,
     "metadata": {},
     "output_type": "execute_result"
    }
   ],
   "source": [
    "cali2['Results'][0][0]['CrashResultSet']['Vehicles'][0]['VSPD_LIM']"
   ]
  },
  {
   "cell_type": "code",
   "execution_count": 127,
   "metadata": {},
   "outputs": [
    {
     "data": {
      "text/plain": [
       "'65'"
      ]
     },
     "execution_count": 127,
     "metadata": {},
     "output_type": "execute_result"
    }
   ],
   "source": [
    "speedlimite= cali2['Results'][0][0]['CrashResultSet']['Vehicles'][0]['VSPD_LIM']\n",
    "speedlimite"
   ]
  },
  {
   "cell_type": "code",
   "execution_count": null,
   "metadata": {},
   "outputs": [],
   "source": []
  },
  {
   "cell_type": "code",
   "execution_count": 129,
   "metadata": {},
   "outputs": [
    {
     "data": {
      "text/html": [
       "<div>\n",
       "<style scoped>\n",
       "    .dataframe tbody tr th:only-of-type {\n",
       "        vertical-align: middle;\n",
       "    }\n",
       "\n",
       "    .dataframe tbody tr th {\n",
       "        vertical-align: top;\n",
       "    }\n",
       "\n",
       "    .dataframe thead th {\n",
       "        text-align: right;\n",
       "    }\n",
       "</style>\n",
       "<table border=\"1\" class=\"dataframe\">\n",
       "  <thead>\n",
       "    <tr style=\"text-align: right;\">\n",
       "      <th></th>\n",
       "      <th>Speed_Limite_Exceeded</th>\n",
       "      <th>Speed_limite</th>\n",
       "      <th>Traveled_Speed_Veh</th>\n",
       "      <th>Vin_Number</th>\n",
       "      <th>Description_of_Veh_Coll</th>\n",
       "    </tr>\n",
       "  </thead>\n",
       "  <tbody>\n",
       "    <tr>\n",
       "      <th>0</th>\n",
       "      <td>Yes, Exceeded Speed Limit</td>\n",
       "      <td>65</td>\n",
       "      <td>95</td>\n",
       "      <td>JS1GN7EA6821</td>\n",
       "      <td>Motor Vehicle struck by falling cargo,or somet...</td>\n",
       "    </tr>\n",
       "  </tbody>\n",
       "</table>\n",
       "</div>"
      ],
      "text/plain": [
       "       Speed_Limite_Exceeded Speed_limite Traveled_Speed_Veh    Vin_Number  \\\n",
       "0  Yes, Exceeded Speed Limit           65                 95  JS1GN7EA6821   \n",
       "\n",
       "                             Description_of_Veh_Coll  \n",
       "0  Motor Vehicle struck by falling cargo,or somet...  "
      ]
     },
     "execution_count": 129,
     "metadata": {},
     "output_type": "execute_result"
    }
   ],
   "source": [
    "df= pd.DataFrame([{\"Speed_Limite_Exceeded\":lanespeed,\"Speed_limite\":speedlimite,\"Traveled_Speed_Veh\":travelspeed,\"Vin_Number\":vin,\"Description_of_Veh_Coll\":cf2name}])\n",
    "df"
   ]
  },
  {
   "cell_type": "code",
   "execution_count": 130,
   "metadata": {},
   "outputs": [
    {
     "data": {
      "text/html": [
       "<div>\n",
       "<style scoped>\n",
       "    .dataframe tbody tr th:only-of-type {\n",
       "        vertical-align: middle;\n",
       "    }\n",
       "\n",
       "    .dataframe tbody tr th {\n",
       "        vertical-align: top;\n",
       "    }\n",
       "\n",
       "    .dataframe thead th {\n",
       "        text-align: right;\n",
       "    }\n",
       "</style>\n",
       "<table border=\"1\" class=\"dataframe\">\n",
       "  <thead>\n",
       "    <tr style=\"text-align: right;\">\n",
       "      <th></th>\n",
       "      <th>Race</th>\n",
       "      <th>Road_Type</th>\n",
       "      <th>Sex</th>\n",
       "      <th>Speed_Limite_Exceeded</th>\n",
       "      <th>Speed_limite</th>\n",
       "      <th>Traveled_Speed_Veh</th>\n",
       "      <th>Vin_Number</th>\n",
       "      <th>Description_of_Veh_Coll</th>\n",
       "    </tr>\n",
       "  </thead>\n",
       "  <tbody>\n",
       "    <tr>\n",
       "      <th>0</th>\n",
       "      <td>Black</td>\n",
       "      <td>Urban-Principal Arterial-Interstate</td>\n",
       "      <td>Male</td>\n",
       "      <td>Yes, Exceeded Speed Limit</td>\n",
       "      <td>65</td>\n",
       "      <td>95</td>\n",
       "      <td>JS1GN7EA6821</td>\n",
       "      <td>Motor Vehicle struck by falling cargo,or somet...</td>\n",
       "    </tr>\n",
       "  </tbody>\n",
       "</table>\n",
       "</div>"
      ],
      "text/plain": [
       "    Race                            Road_Type   Sex  \\\n",
       "0  Black  Urban-Principal Arterial-Interstate  Male   \n",
       "\n",
       "       Speed_Limite_Exceeded Speed_limite Traveled_Speed_Veh    Vin_Number  \\\n",
       "0  Yes, Exceeded Speed Limit           65                 95  JS1GN7EA6821   \n",
       "\n",
       "                             Description_of_Veh_Coll  \n",
       "0  Motor Vehicle struck by falling cargo,or somet...  "
      ]
     },
     "execution_count": 130,
     "metadata": {},
     "output_type": "execute_result"
    }
   ],
   "source": [
    "merge_df = renamed.merge(df,left_index=True,right_index=True)\n",
    "merge_df"
   ]
  },
  {
   "cell_type": "code",
   "execution_count": 131,
   "metadata": {},
   "outputs": [
    {
     "data": {
      "text/plain": [
       "Race                       1\n",
       "Road_Type                  1\n",
       "Sex                        1\n",
       "Speed_Limite_Exceeded      1\n",
       "Speed_limite               1\n",
       "Traveled_Speed_Veh         1\n",
       "Vin_Number                 1\n",
       "Description_of_Veh_Coll    1\n",
       "dtype: int64"
      ]
     },
     "execution_count": 131,
     "metadata": {},
     "output_type": "execute_result"
    }
   ],
   "source": [
    "merge_df.count()"
   ]
  },
  {
   "cell_type": "code",
   "execution_count": null,
   "metadata": {},
   "outputs": [],
   "source": []
  }
 ],
 "metadata": {
  "kernelspec": {
   "display_name": "Python [conda env:PythonData] *",
   "language": "python",
   "name": "conda-env-PythonData-py"
  },
  "language_info": {
   "codemirror_mode": {
    "name": "ipython",
    "version": 3
   },
   "file_extension": ".py",
   "mimetype": "text/x-python",
   "name": "python",
   "nbconvert_exporter": "python",
   "pygments_lexer": "ipython3",
   "version": "3.6.10"
  }
 },
 "nbformat": 4,
 "nbformat_minor": 4
}
